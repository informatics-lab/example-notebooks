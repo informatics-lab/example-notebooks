{
 "cells": [
  {
   "cell_type": "code",
   "execution_count": 1,
   "metadata": {},
   "outputs": [
    {
     "name": "stderr",
     "output_type": "stream",
     "text": [
      "/opt/conda/lib/python3.6/site-packages/intake/source/discovery.py:39: UserWarning: Plugin name collision for \"netcdf\" from\n",
      "    /opt/conda/lib/python3.6/site-packages/intake_iris/netcdf.py\n",
      "and\n",
      "    /opt/conda/lib/python3.6/site-packages/intake_xarray/netcdf.py\n",
      "Keeping plugin from first location.\n",
      "  % (plugin_name, orig_path, new_path))\n"
     ]
    }
   ],
   "source": [
    "import intake\n",
    "import iris\n",
    "import iris.quickplot as qplt"
   ]
  },
  {
   "cell_type": "code",
   "execution_count": 2,
   "metadata": {},
   "outputs": [
    {
     "data": {
      "text/plain": [
       "[<iris 'Cube' of air_temperature / (degC) (time: 20454; projection_y_coordinate: 290; projection_x_coordinate: 180)>,\n",
       "<iris 'Cube' of air_temperature / (degC) (time: 20454; projection_y_coordinate: 290; projection_x_coordinate: 180)>,\n",
       "<iris 'Cube' of air_temperature / (degC) (time: 20454; projection_y_coordinate: 290; projection_x_coordinate: 180)>,\n",
       "<iris 'Cube' of lwe_thickness_of_precipitation_amount / (mm) (time: 21184; projection_y_coordinate: 290; projection_x_coordinate: 180)>]"
      ]
     },
     "execution_count": 2,
     "metadata": {},
     "output_type": "execute_result"
    }
   ],
   "source": [
    "ncic = intake.cat.ncic_daily_land_obs.read_chunked()\n",
    "ncic"
   ]
  },
  {
   "cell_type": "code",
   "execution_count": 3,
   "metadata": {},
   "outputs": [],
   "source": [
    "[rainfall] = ncic.extract(iris.Constraint(name='lwe_thickness_of_precipitation_amount'))"
   ]
  },
  {
   "cell_type": "code",
   "execution_count": 4,
   "metadata": {},
   "outputs": [
    {
     "name": "stderr",
     "output_type": "stream",
     "text": [
      "/opt/conda/lib/python3.6/site-packages/iris/cube.py:3174: UserWarning: Collapsing spatial coordinate 'latitude' without weighting\n",
      "  warnings.warn(msg.format(coord.name()))\n",
      "/opt/conda/lib/python3.6/site-packages/iris/coords.py:1206: UserWarning: Collapsing a multi-dimensional coordinate. Metadata may not be fully descriptive for 'latitude'.\n",
      "  warnings.warn(msg.format(self.name()))\n",
      "/opt/conda/lib/python3.6/site-packages/iris/coords.py:1206: UserWarning: Collapsing a multi-dimensional coordinate. Metadata may not be fully descriptive for 'longitude'.\n",
      "  warnings.warn(msg.format(self.name()))\n"
     ]
    }
   ],
   "source": [
    "mean_rainfall = rainfall.collapsed(['latitude', 'longitude'], iris.analysis.MEAN)"
   ]
  },
  {
   "cell_type": "code",
   "execution_count": null,
   "metadata": {},
   "outputs": [],
   "source": [
    "qplt.plot(mean_rainfall)"
   ]
  },
  {
   "cell_type": "code",
   "execution_count": null,
   "metadata": {},
   "outputs": [],
   "source": []
  }
 ],
 "metadata": {
  "kernelspec": {
   "display_name": "Python [default]",
   "language": "python",
   "name": "python3"
  },
  "language_info": {
   "codemirror_mode": {
    "name": "ipython",
    "version": 3
   },
   "file_extension": ".py",
   "mimetype": "text/x-python",
   "name": "python",
   "nbconvert_exporter": "python",
   "pygments_lexer": "ipython3",
   "version": "3.6.3"
  }
 },
 "nbformat": 4,
 "nbformat_minor": 2
}
