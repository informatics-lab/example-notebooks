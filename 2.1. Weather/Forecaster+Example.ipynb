{
 "cells": [
  {
   "cell_type": "markdown",
   "metadata": {},
   "source": [
    "Forecast Notebooks\n",
    "==========\n",
    "\n",
    "An example notebook which shows how to find, load and plot data.\n",
    "\n",
    "The data for the Coverack case study is located in `/data/coverack`. You can run terminal commands in a Notebook by starting a line with an `!`."
   ]
  },
  {
   "cell_type": "code",
   "execution_count": null,
   "metadata": {
    "collapsed": false
   },
   "outputs": [],
   "source": [
    "!ls /data/coverack"
   ]
  },
  {
   "cell_type": "markdown",
   "metadata": {},
   "source": [
    "One of the great features of working in the cloud is that you can install packages you need.\n",
    "\n",
    "We've been using [Geoviews](http://geoviews.org/) to plot our data. This lets you mix plotting with widgets such as sliders and buttons. Let's install it now (as per their website).\n",
    "\n",
    "You can find more information about using Geoviews with iris at the links below:\n",
    "\n",
    "* http://geoviews.org/\n",
    "* http://geo.holoviews.org/Iris_Datasets_I.html\n",
    "* http://geo.holoviews.org/Iris_Datasets_II.html"
   ]
  },
  {
   "cell_type": "code",
   "execution_count": null,
   "metadata": {
    "collapsed": false
   },
   "outputs": [],
   "source": [
    "!conda install -y -c conda-forge -c ioam geoviews"
   ]
  },
  {
   "cell_type": "markdown",
   "metadata": {},
   "source": [
    "Let's import some of the libraries we're going to use and set up some default plotting behaviour."
   ]
  },
  {
   "cell_type": "code",
   "execution_count": null,
   "metadata": {
    "collapsed": false
   },
   "outputs": [],
   "source": [
    "import iris # for loading data\n",
    "import holoviews as hv # for plotting\n",
    "import geoviews as gv # for plotting geodata\n",
    "\n",
    "hv.notebook_extension()\n",
    "\n",
    "%opts Image {+framewise} [colorbar=True] (cmap='viridis') Curve [xrotation=60]\n",
    "%output max_frames=1000 "
   ]
  },
  {
   "cell_type": "markdown",
   "metadata": {},
   "source": [
    "Let's load some latent heat data"
   ]
  },
  {
   "cell_type": "code",
   "execution_count": null,
   "metadata": {
    "collapsed": true
   },
   "outputs": [],
   "source": [
    "latent_heat_cube = iris.load_cube('/data/coverack/model_data/Coverack/UKV/umnsaa_pvera*',\n",
    "                                      'surface_upward_latent_heat_flux')"
   ]
  },
  {
   "cell_type": "markdown",
   "metadata": {},
   "source": [
    "and convert it to a Geoviews `Dataset` object"
   ]
  },
  {
   "cell_type": "code",
   "execution_count": null,
   "metadata": {
    "collapsed": false
   },
   "outputs": [],
   "source": [
    "latent_heat_gv = gv.Dataset(ukv_latent_heat_cube, kdims=['grid_latitude', 'grid_longitude', 'time'])"
   ]
  },
  {
   "cell_type": "markdown",
   "metadata": {},
   "source": [
    "And the same with turbulent mixing height"
   ]
  },
  {
   "cell_type": "code",
   "execution_count": null,
   "metadata": {
    "collapsed": true
   },
   "outputs": [],
   "source": [
    "tmh_cube = iris.load_cube('/data/coverack/model_data/Coverack/UKV/umnsaa_pvera*',\n",
    "                     'Turbulent mixing height after boundary layer')\n",
    "tmh_gv = gv.Dataset(tmh_cube, kdims=['grid_latitude', 'grid_longitude', 'time'])"
   ]
  },
  {
   "cell_type": "markdown",
   "metadata": {},
   "source": [
    "Now we can plot these objects. They pick up the default plot settings from above. We automatically get a slider!"
   ]
  },
  {
   "cell_type": "code",
   "execution_count": null,
   "metadata": {
    "collapsed": false
   },
   "outputs": [],
   "source": [
    "%%output size=200\n",
    "latent_heat_gv.to(gv.Image, ['grid_longitude', 'grid_latitude']) * gv.feature.coastline(plot=dict(scale='10m')) \\\n",
    "+ \\\n",
    "tmh_gv.to(gv.Image, ['grid_longitude', 'grid_latitude']) * gv.feature.coastline(plot=dict(scale='10m'))"
   ]
  },
  {
   "cell_type": "code",
   "execution_count": null,
   "metadata": {
    "collapsed": true
   },
   "outputs": [],
   "source": []
  }
 ],
 "metadata": {
  "kernelspec": {
   "display_name": "Python 3",
   "language": "python",
   "name": "python3"
  },
  "language_info": {
   "codemirror_mode": {
    "name": "ipython",
    "version": 3
   },
   "file_extension": ".py",
   "mimetype": "text/x-python",
   "name": "python",
   "nbconvert_exporter": "python",
   "pygments_lexer": "ipython3",
   "version": "3.5.2"
  }
 },
 "nbformat": 4,
 "nbformat_minor": 2
}
