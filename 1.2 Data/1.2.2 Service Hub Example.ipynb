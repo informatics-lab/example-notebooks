{
 "cells": [
  {
   "cell_type": "markdown",
   "metadata": {},
   "source": [
    "# Loading Met Office real time model data"
   ]
  },
  {
   "cell_type": "code",
   "execution_count": 1,
   "metadata": {},
   "outputs": [
    {
     "name": "stderr",
     "output_type": "stream",
     "text": [
      "/opt/conda/lib/python3.6/site-packages/intake/source/discovery.py:39: UserWarning: Plugin name collision for \"netcdf\" from\n",
      "    /opt/conda/lib/python3.6/site-packages/intake_iris/netcdf.py\n",
      "and\n",
      "    /opt/conda/lib/python3.6/site-packages/intake_xarray/netcdf.py\n",
      "Keeping plugin from first location.\n",
      "  % (plugin_name, orig_path, new_path))\n"
     ]
    }
   ],
   "source": [
    "import intake\n",
    "import iris\n",
    "import iris.experimental.equalise_cubes\n",
    "import jade_utils.human_tools\n",
    "import jade_utils.iris_tools\n",
    "\n",
    "import matplotlib.pyplot as plt\n",
    "import iris.quickplot as qplt"
   ]
  },
  {
   "cell_type": "markdown",
   "metadata": {},
   "source": [
    "# List the available datasets\n",
    "On Pangeo we make common datasets available with a tool called intake. Intake has a concept of catalogs which can be read, each catalog will return data in a common container format (numpy, pandas, Iris, xarray, etc...). Let's have a look through the data we have built in."
   ]
  },
  {
   "cell_type": "code",
   "execution_count": 2,
   "metadata": {},
   "outputs": [
    {
     "data": {
      "application/vnd.jupyter.widget-view+json": {
       "model_id": "ed897f0739614cc59f0bc84587d25136",
       "version_major": 2,
       "version_minor": 0
      },
      "text/plain": [
       "Intake GUI instance: to get widget to display, you must install ipy/jupyter-widgets, run in a notebook and, in the case of jupyter-lab, install the jlab extension."
      ]
     },
     "metadata": {},
     "output_type": "display_data"
    }
   ],
   "source": [
    "# Show the intake gui for exploring datasets\n",
    "intake.gui"
   ]
  },
  {
   "cell_type": "markdown",
   "metadata": {},
   "source": [
    "# Read the manifest\n",
    "\n",
    "The Met Office makes real time model data available through an internal platform called Service Hub. On Pangeo we are caching the last 24 hours of data in AWS S3 and provide a manifest of the files as a dataset called `service_hub_manifest`. Let's read the manifest and have a look at a few entiries."
   ]
  },
  {
   "cell_type": "code",
   "execution_count": 3,
   "metadata": {},
   "outputs": [
    {
     "data": {
      "text/html": [
       "<div>\n",
       "<style scoped>\n",
       "    .dataframe tbody tr th:only-of-type {\n",
       "        vertical-align: middle;\n",
       "    }\n",
       "\n",
       "    .dataframe tbody tr th {\n",
       "        vertical-align: top;\n",
       "    }\n",
       "\n",
       "    .dataframe thead th {\n",
       "        text-align: right;\n",
       "    }\n",
       "</style>\n",
       "<table border=\"1\" class=\"dataframe\">\n",
       "  <thead>\n",
       "    <tr style=\"text-align: right;\">\n",
       "      <th></th>\n",
       "      <th>cell_methods</th>\n",
       "      <th>created_time</th>\n",
       "      <th>forecast_period</th>\n",
       "      <th>forecast_period_bounds</th>\n",
       "      <th>forecast_period_units</th>\n",
       "      <th>forecast_reference_time</th>\n",
       "      <th>height</th>\n",
       "      <th>height_units</th>\n",
       "      <th>model</th>\n",
       "      <th>name</th>\n",
       "      <th>object_size</th>\n",
       "      <th>pressure</th>\n",
       "      <th>pressure_units</th>\n",
       "      <th>realization</th>\n",
       "      <th>time</th>\n",
       "      <th>ttl</th>\n",
       "    </tr>\n",
       "    <tr>\n",
       "      <th>key</th>\n",
       "      <th></th>\n",
       "      <th></th>\n",
       "      <th></th>\n",
       "      <th></th>\n",
       "      <th></th>\n",
       "      <th></th>\n",
       "      <th></th>\n",
       "      <th></th>\n",
       "      <th></th>\n",
       "      <th></th>\n",
       "      <th></th>\n",
       "      <th></th>\n",
       "      <th></th>\n",
       "      <th></th>\n",
       "      <th></th>\n",
       "      <th></th>\n",
       "    </tr>\n",
       "  </thead>\n",
       "  <tbody>\n",
       "    <tr>\n",
       "      <th>00002049a5b7fc4667603169245baf474dfca74f.nc</th>\n",
       "      <td>NaN</td>\n",
       "      <td>2018-08-23T16:25:38Z</td>\n",
       "      <td>54000</td>\n",
       "      <td>NaN</td>\n",
       "      <td>seconds</td>\n",
       "      <td>2018-08-23T12:00:00Z</td>\n",
       "      <td>NaN</td>\n",
       "      <td>NaN</td>\n",
       "      <td>mo-atmospheric-mogreps-g-prd</td>\n",
       "      <td>air_pressure_at_sea_level</td>\n",
       "      <td>46021091</td>\n",
       "      <td>NaN</td>\n",
       "      <td>NaN</td>\n",
       "      <td>0 1 2 3 4 5 6 7 8 9 10 11 12 13 14 15 16 17</td>\n",
       "      <td>NaN</td>\n",
       "      <td>1535137176</td>\n",
       "    </tr>\n",
       "    <tr>\n",
       "      <th>000079d6ab333e9d66dc1fcf09bbd2cba1995e52.nc</th>\n",
       "      <td>time: mean (interval: 1 hour)</td>\n",
       "      <td>2018-08-24T07:15:10Z</td>\n",
       "      <td>25200</td>\n",
       "      <td>21600 25200</td>\n",
       "      <td>seconds</td>\n",
       "      <td>2018-08-24T06:00:00Z</td>\n",
       "      <td>NaN</td>\n",
       "      <td>NaN</td>\n",
       "      <td>mo-atmospheric-ukv-prd</td>\n",
       "      <td>thickness_of_rainfall_amount</td>\n",
       "      <td>1114471</td>\n",
       "      <td>NaN</td>\n",
       "      <td>NaN</td>\n",
       "      <td>NaN</td>\n",
       "      <td>NaN</td>\n",
       "      <td>1535181462</td>\n",
       "    </tr>\n",
       "    <tr>\n",
       "      <th>0000851f7203c55b1de3f1ea7e1f0e10956235a3.nc</th>\n",
       "      <td>NaN</td>\n",
       "      <td>2018-08-26T02:15:28Z</td>\n",
       "      <td>25200</td>\n",
       "      <td>NaN</td>\n",
       "      <td>seconds</td>\n",
       "      <td>2018-08-26T01:00:00Z</td>\n",
       "      <td>NaN</td>\n",
       "      <td>NaN</td>\n",
       "      <td>mo-atmospheric-ukv-prd</td>\n",
       "      <td>low_type_cloud_area_fraction</td>\n",
       "      <td>2186556</td>\n",
       "      <td>NaN</td>\n",
       "      <td>NaN</td>\n",
       "      <td>NaN</td>\n",
       "      <td>NaN</td>\n",
       "      <td>1535336273</td>\n",
       "    </tr>\n",
       "    <tr>\n",
       "      <th>000090d3c530ffa965c4e55e234bd61adacceb4d.nc</th>\n",
       "      <td>NaN</td>\n",
       "      <td>2018-08-27T21:47:17Z</td>\n",
       "      <td>50400</td>\n",
       "      <td>NaN</td>\n",
       "      <td>seconds</td>\n",
       "      <td>2018-08-27T18:00:00Z</td>\n",
       "      <td>NaN</td>\n",
       "      <td>NaN</td>\n",
       "      <td>mo-atmospheric-global-prd</td>\n",
       "      <td>high_type_cloud_area_fraction</td>\n",
       "      <td>2753704</td>\n",
       "      <td>NaN</td>\n",
       "      <td>NaN</td>\n",
       "      <td>NaN</td>\n",
       "      <td>NaN</td>\n",
       "      <td>1535494156</td>\n",
       "    </tr>\n",
       "    <tr>\n",
       "      <th>0000a466f42ee498985f5cbf038173512c28d1c1.nc</th>\n",
       "      <td>NaN</td>\n",
       "      <td>2018-08-24T04:25:54Z</td>\n",
       "      <td>25200</td>\n",
       "      <td>NaN</td>\n",
       "      <td>seconds</td>\n",
       "      <td>2018-08-24T03:00:00Z</td>\n",
       "      <td>NaN</td>\n",
       "      <td>NaN</td>\n",
       "      <td>mo-atmospheric-ukv-prd</td>\n",
       "      <td>lwe_thickness_of_surface_snow_amount</td>\n",
       "      <td>81850</td>\n",
       "      <td>NaN</td>\n",
       "      <td>NaN</td>\n",
       "      <td>NaN</td>\n",
       "      <td>NaN</td>\n",
       "      <td>1535171443</td>\n",
       "    </tr>\n",
       "  </tbody>\n",
       "</table>\n",
       "</div>"
      ],
      "text/plain": [
       "                                                              cell_methods  \\\n",
       "key                                                                          \n",
       "00002049a5b7fc4667603169245baf474dfca74f.nc                            NaN   \n",
       "000079d6ab333e9d66dc1fcf09bbd2cba1995e52.nc  time: mean (interval: 1 hour)   \n",
       "0000851f7203c55b1de3f1ea7e1f0e10956235a3.nc                            NaN   \n",
       "000090d3c530ffa965c4e55e234bd61adacceb4d.nc                            NaN   \n",
       "0000a466f42ee498985f5cbf038173512c28d1c1.nc                            NaN   \n",
       "\n",
       "                                                     created_time  \\\n",
       "key                                                                 \n",
       "00002049a5b7fc4667603169245baf474dfca74f.nc  2018-08-23T16:25:38Z   \n",
       "000079d6ab333e9d66dc1fcf09bbd2cba1995e52.nc  2018-08-24T07:15:10Z   \n",
       "0000851f7203c55b1de3f1ea7e1f0e10956235a3.nc  2018-08-26T02:15:28Z   \n",
       "000090d3c530ffa965c4e55e234bd61adacceb4d.nc  2018-08-27T21:47:17Z   \n",
       "0000a466f42ee498985f5cbf038173512c28d1c1.nc  2018-08-24T04:25:54Z   \n",
       "\n",
       "                                            forecast_period  \\\n",
       "key                                                           \n",
       "00002049a5b7fc4667603169245baf474dfca74f.nc           54000   \n",
       "000079d6ab333e9d66dc1fcf09bbd2cba1995e52.nc           25200   \n",
       "0000851f7203c55b1de3f1ea7e1f0e10956235a3.nc           25200   \n",
       "000090d3c530ffa965c4e55e234bd61adacceb4d.nc           50400   \n",
       "0000a466f42ee498985f5cbf038173512c28d1c1.nc           25200   \n",
       "\n",
       "                                            forecast_period_bounds  \\\n",
       "key                                                                  \n",
       "00002049a5b7fc4667603169245baf474dfca74f.nc                    NaN   \n",
       "000079d6ab333e9d66dc1fcf09bbd2cba1995e52.nc            21600 25200   \n",
       "0000851f7203c55b1de3f1ea7e1f0e10956235a3.nc                    NaN   \n",
       "000090d3c530ffa965c4e55e234bd61adacceb4d.nc                    NaN   \n",
       "0000a466f42ee498985f5cbf038173512c28d1c1.nc                    NaN   \n",
       "\n",
       "                                            forecast_period_units  \\\n",
       "key                                                                 \n",
       "00002049a5b7fc4667603169245baf474dfca74f.nc               seconds   \n",
       "000079d6ab333e9d66dc1fcf09bbd2cba1995e52.nc               seconds   \n",
       "0000851f7203c55b1de3f1ea7e1f0e10956235a3.nc               seconds   \n",
       "000090d3c530ffa965c4e55e234bd61adacceb4d.nc               seconds   \n",
       "0000a466f42ee498985f5cbf038173512c28d1c1.nc               seconds   \n",
       "\n",
       "                                            forecast_reference_time height  \\\n",
       "key                                                                          \n",
       "00002049a5b7fc4667603169245baf474dfca74f.nc    2018-08-23T12:00:00Z    NaN   \n",
       "000079d6ab333e9d66dc1fcf09bbd2cba1995e52.nc    2018-08-24T06:00:00Z    NaN   \n",
       "0000851f7203c55b1de3f1ea7e1f0e10956235a3.nc    2018-08-26T01:00:00Z    NaN   \n",
       "000090d3c530ffa965c4e55e234bd61adacceb4d.nc    2018-08-27T18:00:00Z    NaN   \n",
       "0000a466f42ee498985f5cbf038173512c28d1c1.nc    2018-08-24T03:00:00Z    NaN   \n",
       "\n",
       "                                            height_units  \\\n",
       "key                                                        \n",
       "00002049a5b7fc4667603169245baf474dfca74f.nc          NaN   \n",
       "000079d6ab333e9d66dc1fcf09bbd2cba1995e52.nc          NaN   \n",
       "0000851f7203c55b1de3f1ea7e1f0e10956235a3.nc          NaN   \n",
       "000090d3c530ffa965c4e55e234bd61adacceb4d.nc          NaN   \n",
       "0000a466f42ee498985f5cbf038173512c28d1c1.nc          NaN   \n",
       "\n",
       "                                                                    model  \\\n",
       "key                                                                         \n",
       "00002049a5b7fc4667603169245baf474dfca74f.nc  mo-atmospheric-mogreps-g-prd   \n",
       "000079d6ab333e9d66dc1fcf09bbd2cba1995e52.nc        mo-atmospheric-ukv-prd   \n",
       "0000851f7203c55b1de3f1ea7e1f0e10956235a3.nc        mo-atmospheric-ukv-prd   \n",
       "000090d3c530ffa965c4e55e234bd61adacceb4d.nc     mo-atmospheric-global-prd   \n",
       "0000a466f42ee498985f5cbf038173512c28d1c1.nc        mo-atmospheric-ukv-prd   \n",
       "\n",
       "                                                                             name  \\\n",
       "key                                                                                 \n",
       "00002049a5b7fc4667603169245baf474dfca74f.nc             air_pressure_at_sea_level   \n",
       "000079d6ab333e9d66dc1fcf09bbd2cba1995e52.nc          thickness_of_rainfall_amount   \n",
       "0000851f7203c55b1de3f1ea7e1f0e10956235a3.nc          low_type_cloud_area_fraction   \n",
       "000090d3c530ffa965c4e55e234bd61adacceb4d.nc         high_type_cloud_area_fraction   \n",
       "0000a466f42ee498985f5cbf038173512c28d1c1.nc  lwe_thickness_of_surface_snow_amount   \n",
       "\n",
       "                                            object_size pressure  \\\n",
       "key                                                                \n",
       "00002049a5b7fc4667603169245baf474dfca74f.nc    46021091      NaN   \n",
       "000079d6ab333e9d66dc1fcf09bbd2cba1995e52.nc     1114471      NaN   \n",
       "0000851f7203c55b1de3f1ea7e1f0e10956235a3.nc     2186556      NaN   \n",
       "000090d3c530ffa965c4e55e234bd61adacceb4d.nc     2753704      NaN   \n",
       "0000a466f42ee498985f5cbf038173512c28d1c1.nc       81850      NaN   \n",
       "\n",
       "                                            pressure_units  \\\n",
       "key                                                          \n",
       "00002049a5b7fc4667603169245baf474dfca74f.nc            NaN   \n",
       "000079d6ab333e9d66dc1fcf09bbd2cba1995e52.nc            NaN   \n",
       "0000851f7203c55b1de3f1ea7e1f0e10956235a3.nc            NaN   \n",
       "000090d3c530ffa965c4e55e234bd61adacceb4d.nc            NaN   \n",
       "0000a466f42ee498985f5cbf038173512c28d1c1.nc            NaN   \n",
       "\n",
       "                                                                             realization  \\\n",
       "key                                                                                        \n",
       "00002049a5b7fc4667603169245baf474dfca74f.nc  0 1 2 3 4 5 6 7 8 9 10 11 12 13 14 15 16 17   \n",
       "000079d6ab333e9d66dc1fcf09bbd2cba1995e52.nc                                          NaN   \n",
       "0000851f7203c55b1de3f1ea7e1f0e10956235a3.nc                                          NaN   \n",
       "000090d3c530ffa965c4e55e234bd61adacceb4d.nc                                          NaN   \n",
       "0000a466f42ee498985f5cbf038173512c28d1c1.nc                                          NaN   \n",
       "\n",
       "                                            time         ttl  \n",
       "key                                                           \n",
       "00002049a5b7fc4667603169245baf474dfca74f.nc  NaN  1535137176  \n",
       "000079d6ab333e9d66dc1fcf09bbd2cba1995e52.nc  NaN  1535181462  \n",
       "0000851f7203c55b1de3f1ea7e1f0e10956235a3.nc  NaN  1535336273  \n",
       "000090d3c530ffa965c4e55e234bd61adacceb4d.nc  NaN  1535494156  \n",
       "0000a466f42ee498985f5cbf038173512c28d1c1.nc  NaN  1535171443  "
      ]
     },
     "execution_count": 3,
     "metadata": {},
     "output_type": "execute_result"
    }
   ],
   "source": [
    "# Read the manifest from intake\n",
    "manifest = intake.cat.service_hub_manifest.read()\n",
    "\n",
    "# Show the head of the manifest so we can see what kind of metadata we have\n",
    "manifest.head()"
   ]
  },
  {
   "cell_type": "markdown",
   "metadata": {},
   "source": [
    "# What is in the manifest\n",
    "\n",
    "The manifest can be very large and contains metadata for files which which were generated for a number of models. Each model produces fields of different environmental properties such as rian, wind, pressure, etc. This data is pretty big, let's calculate how much we have based on the size of each object."
   ]
  },
  {
   "cell_type": "code",
   "execution_count": 5,
   "metadata": {},
   "outputs": [
    {
     "data": {
      "text/plain": [
       "'37.4TiB'"
      ]
     },
     "execution_count": 5,
     "metadata": {},
     "output_type": "execute_result"
    }
   ],
   "source": [
    "# Show the cumulative file size in human readable format\n",
    "jade_utils.human_tools.human_bytes(int(manifest['object_size'].sum()))"
   ]
  },
  {
   "cell_type": "code",
   "execution_count": 15,
   "metadata": {},
   "outputs": [
    {
     "data": {
      "text/plain": [
       "606072"
      ]
     },
     "execution_count": 15,
     "metadata": {},
     "output_type": "execute_result"
    }
   ],
   "source": [
    "# Get the number of files in the manifest\n",
    "len(manifest)"
   ]
  },
  {
   "cell_type": "markdown",
   "metadata": {},
   "source": [
    "This is quite a lot of data to be working with, so let's filter our manifest down. We can start by having a look at what models are contained in this dataset."
   ]
  },
  {
   "cell_type": "code",
   "execution_count": 6,
   "metadata": {},
   "outputs": [
    {
     "data": {
      "text/plain": [
       "['mo-atmospheric-mogreps-g-prd',\n",
       " 'mo-atmospheric-ukv-prd',\n",
       " 'mo-atmospheric-global-prd',\n",
       " 'mo-atmospheric-mogreps-uk-prd']"
      ]
     },
     "execution_count": 6,
     "metadata": {},
     "output_type": "execute_result"
    }
   ],
   "source": [
    "# Get unique model names and show them in a list\n",
    "list(manifest['model'].unique())"
   ]
  },
  {
   "cell_type": "markdown",
   "metadata": {},
   "source": [
    "There are four models here, let's focus on a model called UKV which is a deterministic model covering the UK in high resultion. We can have a look at the different parameters available in this model."
   ]
  },
  {
   "cell_type": "code",
   "execution_count": 7,
   "metadata": {},
   "outputs": [
    {
     "data": {
      "text/plain": [
       "['thickness_of_rainfall_amount',\n",
       " 'low_type_cloud_area_fraction',\n",
       " 'lwe_thickness_of_surface_snow_amount',\n",
       " 'soil_temperature',\n",
       " 'relative_humidity',\n",
       " 'cloud_volume_fraction_in_atmosphere_layer',\n",
       " 'air_temperature',\n",
       " 'wind_speed',\n",
       " 'wet_bulb_potential_temperature',\n",
       " 'deprecated_snowfall_fraction_of_precipitation_rate',\n",
       " 'wet_bulb_freezing_level_height',\n",
       " 'dew_point_temperature',\n",
       " 'wind_speed_of_gust',\n",
       " 'land_binary_mask',\n",
       " 'net_downward_shortwave_flux_in_air',\n",
       " 'surface_downwelling_shortwave_flux_in_air',\n",
       " 'cloud_base_height_0p1_oktas',\n",
       " 'cloud_base_height_2p5_oktas',\n",
       " 'visibility_in_air',\n",
       " 'medium_type_cloud_area_fraction',\n",
       " 'cloud_base_altitude_assuming_only_consider_cloud_area_fraction_greater_than_4p5_oktas',\n",
       " 'deprecated_precipitation_rate',\n",
       " 'high_type_cloud_area_fraction',\n",
       " 'freezing_level_height',\n",
       " 'fog_area_fraction',\n",
       " 'freezing_level_altitude',\n",
       " 'lwe_snowfall_rate',\n",
       " 'surface_altitude',\n",
       " 'cloud_area_fraction',\n",
       " 'cloud_base_altitude_assuming_only_consider_cloud_area_fraction_greater_than_2p5_oktas',\n",
       " 'cloud_base_height_4p5_oktas',\n",
       " 'surface_direct_downwelling_shortwave_flux_in_air',\n",
       " 'wind_from_direction',\n",
       " 'surface_air_pressure',\n",
       " 'height',\n",
       " 'surface_temperature',\n",
       " 'air_pressure_at_sea_level',\n",
       " 'rainfall_rate',\n",
       " 'geopotential_height',\n",
       " 'number_of_lightning_flashes_per_unit_area',\n",
       " 'deprecated_precipitation_accumulation',\n",
       " 'cloud_area_fraction_assuming_only_consider_surface_to_1000_feet_asl',\n",
       " 'surface_diffusive_downwelling_shortwave_flux_in_air',\n",
       " 'wet_bulb_freezing_level_altitude',\n",
       " 'lwe_thickness_of_snowfall_amount',\n",
       " 'air_pressure']"
      ]
     },
     "execution_count": 7,
     "metadata": {},
     "output_type": "execute_result"
    }
   ],
   "source": [
    "# Get unique variable names and show them in a list\n",
    "list(manifest[manifest['model'] == 'mo-atmospheric-ukv-prd']['name'].unique())"
   ]
  },
  {
   "cell_type": "markdown",
   "metadata": {},
   "source": [
    "There are lots of different data types in here that we could explore, but in this instance we are most interested in rainfall. Let's extract a subset of the manifest which contains rainfall data from the UKV model."
   ]
  },
  {
   "cell_type": "code",
   "execution_count": 8,
   "metadata": {},
   "outputs": [
    {
     "data": {
      "text/plain": [
       "4740"
      ]
     },
     "execution_count": 8,
     "metadata": {},
     "output_type": "execute_result"
    }
   ],
   "source": [
    "# Filter the full manifest by model and variable\n",
    "ukv_rainfall_manifest = manifest[(manifest['model'] == 'mo-atmospheric-ukv-prd') & (manifest['name'] == 'thickness_of_rainfall_amount')]\n",
    "\n",
    "# Show the length of the manifest\n",
    "len(ukv_rainfall_manifest)"
   ]
  },
  {
   "cell_type": "markdown",
   "metadata": {},
   "source": [
    "Calling `len()` on the manifest shows there are 4730 files containing rainfall from the UKV model currently available on S3. We are probably only interested in the most recent data, the model we generated 24 hours ago is going to be less useful than the one we generated one hour ago. The most recent model run is probably still being uploaded to S3 so let's filter our list to the one before that."
   ]
  },
  {
   "cell_type": "code",
   "execution_count": 11,
   "metadata": {},
   "outputs": [
    {
     "data": {
      "text/plain": [
       "54"
      ]
     },
     "execution_count": 11,
     "metadata": {},
     "output_type": "execute_result"
    }
   ],
   "source": [
    "# Get the latest complete forecast model by sorting in date order and take the penultimate one (because the latest one is likely incomplete)\n",
    "[_, _, latest_frt, *_] = sorted(ukv_rainfall_manifest['forecast_reference_time'].unique(), reverse=True)\n",
    "\n",
    "# Get a manifest of files for that model run time\n",
    "latest_run_manifest = ukv_rainfall_manifest[ukv_rainfall_manifest['forecast_reference_time'] == latest_frt]\n",
    "\n",
    "# Show the length of the manifest\n",
    "len(latest_run_manifest)"
   ]
  },
  {
   "cell_type": "markdown",
   "metadata": {},
   "source": [
    "This model run consists of 54 files containing rainfall for the UK."
   ]
  },
  {
   "cell_type": "markdown",
   "metadata": {},
   "source": [
    "# Loading with iris\n",
    "At the Met Office we use a tool called iris to load and analyse gridded model data. We need to load the files from S3 using the `/s3` mount point and merge them together into a continuous cube of data. Each file will contain a number of time points from the run, so we need to slice them over time and then merge into a continuous axis."
   ]
  },
  {
   "cell_type": "code",
   "execution_count": 12,
   "metadata": {},
   "outputs": [
    {
     "data": {
      "text/html": [
       "\n",
       "<style>\n",
       "  a.iris {\n",
       "      text-decoration: none !important;\n",
       "  }\n",
       "  table.iris {\n",
       "      white-space: pre;\n",
       "      border: 1px solid;\n",
       "      border-color: #9c9c9c;\n",
       "      font-family: monaco, monospace;\n",
       "  }\n",
       "  th.iris {\n",
       "      background: #303f3f;\n",
       "      color: #e0e0e0;\n",
       "      border-left: 1px solid;\n",
       "      border-color: #9c9c9c;\n",
       "      font-size: 1.05em;\n",
       "      min-width: 50px;\n",
       "      max-width: 125px;\n",
       "  }\n",
       "  tr.iris :first-child {\n",
       "      border-right: 1px solid #9c9c9c !important;\n",
       "  }\n",
       "  td.iris-title {\n",
       "      background: #d5dcdf;\n",
       "      border-top: 1px solid #9c9c9c;\n",
       "      font-weight: bold;\n",
       "  }\n",
       "  .iris-word-cell {\n",
       "      text-align: left !important;\n",
       "      white-space: pre;\n",
       "  }\n",
       "  .iris-subheading-cell {\n",
       "      padding-left: 2em !important;\n",
       "  }\n",
       "  .iris-inclusion-cell {\n",
       "      padding-right: 1em !important;\n",
       "  }\n",
       "  .iris-panel-body {\n",
       "      padding-top: 0px;\n",
       "  }\n",
       "  .iris-panel-title {\n",
       "      padding-left: 3em;\n",
       "  }\n",
       "  .iris-panel-title {\n",
       "      margin-top: 7px;\n",
       "  }\n",
       "</style>\n",
       "<table class=\"iris\" id=\"140124209979064\">\n",
       "    <tr class=\"iris\">\n",
       "<th class=\"iris iris-word-cell\">Thickness Of Rainfall Amount (m)</th>\n",
       "<th class=\"iris iris-word-cell\">time</th>\n",
       "<th class=\"iris iris-word-cell\">projection_y_coordinate</th>\n",
       "<th class=\"iris iris-word-cell\">projection_x_coordinate</th>\n",
       "</tr>\n",
       "    <tr class=\"iris\">\n",
       "<td class=\"iris-word-cell iris-subheading-cell\">Shape</td>\n",
       "<td class=\"iris iris-inclusion-cell\">54</td>\n",
       "<td class=\"iris iris-inclusion-cell\">970</td>\n",
       "<td class=\"iris iris-inclusion-cell\">1042</td>\n",
       "</td>\n",
       "    <tr class=\"iris\">\n",
       "    <td class=\"iris-title iris-word-cell\">Dimension coordinates</td>\n",
       "    <td class=\"iris-title\"></td>\n",
       "    <td class=\"iris-title\"></td>\n",
       "    <td class=\"iris-title\"></td>\n",
       "</tr>\n",
       "<tr class=\"iris\">\n",
       "    <td class=\"iris-word-cell iris-subheading-cell\">\ttime</td>\n",
       "    <td class=\"iris-inclusion-cell\">x</td>\n",
       "    <td class=\"iris-inclusion-cell\">-</td>\n",
       "    <td class=\"iris-inclusion-cell\">-</td>\n",
       "</tr>\n",
       "<tr class=\"iris\">\n",
       "    <td class=\"iris-word-cell iris-subheading-cell\">\tprojection_y_coordinate</td>\n",
       "    <td class=\"iris-inclusion-cell\">-</td>\n",
       "    <td class=\"iris-inclusion-cell\">x</td>\n",
       "    <td class=\"iris-inclusion-cell\">-</td>\n",
       "</tr>\n",
       "<tr class=\"iris\">\n",
       "    <td class=\"iris-word-cell iris-subheading-cell\">\tprojection_x_coordinate</td>\n",
       "    <td class=\"iris-inclusion-cell\">-</td>\n",
       "    <td class=\"iris-inclusion-cell\">-</td>\n",
       "    <td class=\"iris-inclusion-cell\">x</td>\n",
       "</tr>\n",
       "<tr class=\"iris\">\n",
       "    <td class=\"iris-title iris-word-cell\">Auxiliary coordinates</td>\n",
       "    <td class=\"iris-title\"></td>\n",
       "    <td class=\"iris-title\"></td>\n",
       "    <td class=\"iris-title\"></td>\n",
       "</tr>\n",
       "<tr class=\"iris\">\n",
       "    <td class=\"iris-word-cell iris-subheading-cell\">\tforecast_period</td>\n",
       "    <td class=\"iris-inclusion-cell\">x</td>\n",
       "    <td class=\"iris-inclusion-cell\">-</td>\n",
       "    <td class=\"iris-inclusion-cell\">-</td>\n",
       "</tr>\n",
       "<tr class=\"iris\">\n",
       "    <td class=\"iris-title iris-word-cell\">Scalar coordinates</td>\n",
       "    <td class=\"iris-title\"></td>\n",
       "    <td class=\"iris-title\"></td>\n",
       "    <td class=\"iris-title\"></td>\n",
       "</tr>\n",
       "<tr class=\"iris\">\n",
       "    <td class=\"iris-word-cell iris-subheading-cell\">\tforecast_reference_time</td>\n",
       "    <td class=\"iris-word-cell\" colspan=\"3\">2018-11-05 06:00:00</td>\n",
       "</tr>\n",
       "<tr class=\"iris\">\n",
       "    <td class=\"iris-title iris-word-cell\">Attributes</td>\n",
       "    <td class=\"iris-title\"></td>\n",
       "    <td class=\"iris-title\"></td>\n",
       "    <td class=\"iris-title\"></td>\n",
       "</tr>\n",
       "<tr class=\"iris\">\n",
       "    <td class=\"iris-word-cell iris-subheading-cell\">\tConventions</td>\n",
       "    <td class=\"iris-word-cell\" colspan=\"3\">CF-1.5, UKMO-1.0</td>\n",
       "</tr>\n",
       "<tr class=\"iris\">\n",
       "    <td class=\"iris-word-cell iris-subheading-cell\">\tinstitution</td>\n",
       "    <td class=\"iris-word-cell\" colspan=\"3\">Met Office</td>\n",
       "</tr>\n",
       "<tr class=\"iris\">\n",
       "    <td class=\"iris-word-cell iris-subheading-cell\">\tmosg__forecast_run_duration</td>\n",
       "    <td class=\"iris-word-cell\" colspan=\"3\">PT54H</td>\n",
       "</tr>\n",
       "<tr class=\"iris\">\n",
       "    <td class=\"iris-word-cell iris-subheading-cell\">\tmosg__grid_domain</td>\n",
       "    <td class=\"iris-word-cell\" colspan=\"3\">uk_extended</td>\n",
       "</tr>\n",
       "<tr class=\"iris\">\n",
       "    <td class=\"iris-word-cell iris-subheading-cell\">\tmosg__grid_type</td>\n",
       "    <td class=\"iris-word-cell\" colspan=\"3\">standard</td>\n",
       "</tr>\n",
       "<tr class=\"iris\">\n",
       "    <td class=\"iris-word-cell iris-subheading-cell\">\tmosg__grid_version</td>\n",
       "    <td class=\"iris-word-cell\" colspan=\"3\">1.3.0</td>\n",
       "</tr>\n",
       "<tr class=\"iris\">\n",
       "    <td class=\"iris-word-cell iris-subheading-cell\">\tmosg__model_configuration</td>\n",
       "    <td class=\"iris-word-cell\" colspan=\"3\">uk_det</td>\n",
       "</tr>\n",
       "<tr class=\"iris\">\n",
       "    <td class=\"iris-word-cell iris-subheading-cell\">\tsource</td>\n",
       "    <td class=\"iris-word-cell\" colspan=\"3\">Met Office Unified Model</td>\n",
       "</tr>\n",
       "<tr class=\"iris\">\n",
       "    <td class=\"iris-word-cell iris-subheading-cell\">\ttitle</td>\n",
       "    <td class=\"iris-word-cell\" colspan=\"3\">UKV Model Forecast on UK 2 km Standard Grid</td>\n",
       "</tr>\n",
       "<tr class=\"iris\">\n",
       "    <td class=\"iris-word-cell iris-subheading-cell\">\tum_version</td>\n",
       "    <td class=\"iris-word-cell\" colspan=\"3\">10.9</td>\n",
       "</tr>\n",
       "<tr class=\"iris\">\n",
       "    <td class=\"iris-title iris-word-cell\">Cell methods</td>\n",
       "    <td class=\"iris-title\"></td>\n",
       "    <td class=\"iris-title\"></td>\n",
       "    <td class=\"iris-title\"></td>\n",
       "</tr>\n",
       "<tr class=\"iris\">\n",
       "    <td class=\"iris-word-cell iris-subheading-cell\">\tmean</td>\n",
       "    <td class=\"iris-word-cell\" colspan=\"3\">time (1 hour)</td>\n",
       "</tr>\n",
       "</table>\n",
       "        "
      ],
      "text/plain": [
       "<iris 'Cube' of thickness_of_rainfall_amount / (m) (time: 54; projection_y_coordinate: 970; projection_x_coordinate: 1042)>"
      ]
     },
     "execution_count": 12,
     "metadata": {},
     "output_type": "execute_result"
    }
   ],
   "source": [
    "# Generate a list of paths from the manifest\n",
    "files = ['/s3/informatics-aws-earth-staging/{}'.format(key) for key in list(latest_run_manifest.index)]\n",
    "\n",
    "# Load the files into a list of cubes\n",
    "cubelist = iris.load(files)\n",
    "\n",
    "# Iris is vert strict about metadata, so we first need to tell it to sync up the attributes before merging\n",
    "iris.experimental.equalise_cubes.equalise_attributes(cubelist)\n",
    "\n",
    "# We need to tease the timesteps in each file apart and then put them back together into a continuous time series\n",
    "timesteps = iris.cube.CubeList([])\n",
    "for c in cubelist:\n",
    "    for t in c.slices_over(\"time\"):\n",
    "        timesteps.append(t)\n",
    "[cube] = timesteps.merge()\n",
    "\n",
    "# Now we have a cube we can have a look at it\n",
    "cube"
   ]
  },
  {
   "cell_type": "markdown",
   "metadata": {},
   "source": [
    "## Plotting\n",
    "\n",
    "Now that we have a cube of data we can plot it. Let's start with the first timestep."
   ]
  },
  {
   "cell_type": "code",
   "execution_count": 13,
   "metadata": {},
   "outputs": [
    {
     "data": {
      "image/png": "[encoded data removed]",
      "text/plain": [
       "<Figure size 720x1080 with 2 Axes>"
      ]
     },
     "metadata": {},
     "output_type": "display_data"
    }
   ],
   "source": [
    "# Create a new matplotlib figure\n",
    "fig = plt.figure(figsize=(10, 15))\n",
    "\n",
    "# Plot the data using pcolormesh\n",
    "qplt.pcolormesh(cube[0])\n",
    "\n",
    "# Add coastlines to the map\n",
    "plt.gca().coastlines('50m')\n",
    "\n",
    "# Display it\n",
    "plt.show()"
   ]
  },
  {
   "cell_type": "code",
   "execution_count": null,
   "metadata": {},
   "outputs": [],
   "source": []
  }
 ],
 "metadata": {
  "kernelspec": {
   "display_name": "Python [default]",
   "language": "python",
   "name": "python3"
  },
  "language_info": {
   "codemirror_mode": {
    "name": "ipython",
    "version": 3
   },
   "file_extension": ".py",
   "mimetype": "text/x-python",
   "name": "python",
   "nbconvert_exporter": "python",
   "pygments_lexer": "ipython3",
   "version": "3.6.3"
  }
 },
 "nbformat": 4,
 "nbformat_minor": 2
}
