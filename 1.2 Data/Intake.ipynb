{
 "cells": [
  {
   "cell_type": "markdown",
   "metadata": {},
   "source": [
    "# Intake\n",
    "\n",
    "[Intake](https://github.com/ContinuumIO/intake) is a library from Anaconda Inc for sharing and discovering datasets in Python. \n",
    "\n",
    "Datasets that are packaged with intake consist of a manifest file describing where to find the dataset and a plugin which is used to load the dataset. On our Pangeo you will find some datasets which are already installed along with the standard set of plugins and some extras for loading environmental datasets."
   ]
  },
  {
   "cell_type": "markdown",
   "metadata": {},
   "source": [
    "## Listing available datasets\n",
    "\n",
    "Out of the box there are a number of datasets already available to you here on our Pangeo. You can list them by importing intake and exploring the default intake catalog."
   ]
  },
  {
   "cell_type": "code",
   "execution_count": 23,
   "metadata": {},
   "outputs": [],
   "source": [
    "from intake import cat"
   ]
  },
  {
   "cell_type": "code",
   "execution_count": 24,
   "metadata": {},
   "outputs": [
    {
     "name": "stdout",
     "output_type": "stream",
     "text": [
      "car_park_tickets_sold: Data about the number of tickets sold in Exeter car parks from Exeter City Council (https://exeterdatamill.com/dataset/car-park-tickets-sold)\n",
      "ncic_daily_land_obs: National Climate Information Centre (NCIC) daily land observations.\n"
     ]
    }
   ],
   "source": [
    "for dataset in cat:\n",
    "    print(\"{name}: {description}\".format(name=dataset, description=cat[dataset].description))"
   ]
  },
  {
   "cell_type": "markdown",
   "metadata": {},
   "source": [
    "## Loading datasets\n",
    "\n",
    "Datasets can be accessed from the intake catalog at a property of the same name. For example we have the `ncic_daily_land_obs` dataset which can be accessed at `cat.ncic_daily_land_obs()`. This dataset object has some properties for getting information about the dataset such as `description` used above. It also has two methods for reading the data from the dataset; `read()` and `read_chunked()`. "
   ]
  },
  {
   "cell_type": "markdown",
   "metadata": {},
   "source": [
    "### `read()`\n",
    "When calling `read()` it will attempt to load the entire dataset into memory using an appropriate container. This may be desirible if you are working with a small dataset stored in a `csv` file. Calling `read()` on such a dataset will load the data into memory as a pandas dataframe."
   ]
  },
  {
   "cell_type": "code",
   "execution_count": 26,
   "metadata": {},
   "outputs": [
    {
     "data": {
      "text/html": [
       "<div>\n",
       "<style scoped>\n",
       "    .dataframe tbody tr th:only-of-type {\n",
       "        vertical-align: middle;\n",
       "    }\n",
       "\n",
       "    .dataframe tbody tr th {\n",
       "        vertical-align: top;\n",
       "    }\n",
       "\n",
       "    .dataframe thead th {\n",
       "        text-align: right;\n",
       "    }\n",
       "</style>\n",
       "<table border=\"1\" class=\"dataframe\">\n",
       "  <thead>\n",
       "    <tr style=\"text-align: right;\">\n",
       "      <th></th>\n",
       "      <th>Year</th>\n",
       "      <th>Month</th>\n",
       "      <th>Date</th>\n",
       "      <th>Hour</th>\n",
       "      <th>Site</th>\n",
       "      <th>Tickets</th>\n",
       "      <th>SiteSub</th>\n",
       "    </tr>\n",
       "  </thead>\n",
       "  <tbody>\n",
       "    <tr>\n",
       "      <th>0</th>\n",
       "      <td>2014</td>\n",
       "      <td>Mar</td>\n",
       "      <td>2014-03-05</td>\n",
       "      <td>08:00</td>\n",
       "      <td>Purchase Count - Bampfylde Street Car Park</td>\n",
       "      <td>10.0</td>\n",
       "      <td>Bampfylde Street Car Park</td>\n",
       "    </tr>\n",
       "    <tr>\n",
       "      <th>1</th>\n",
       "      <td>2014</td>\n",
       "      <td>Mar</td>\n",
       "      <td>2014-03-05</td>\n",
       "      <td>16:00</td>\n",
       "      <td>Purchase Count - Bampfylde Street Car Park</td>\n",
       "      <td>2.0</td>\n",
       "      <td>Bampfylde Street Car Park</td>\n",
       "    </tr>\n",
       "    <tr>\n",
       "      <th>2</th>\n",
       "      <td>2014</td>\n",
       "      <td>Mar</td>\n",
       "      <td>2014-03-06</td>\n",
       "      <td>08:00</td>\n",
       "      <td>Purchase Count - Bampfylde Street Car Park</td>\n",
       "      <td>NaN</td>\n",
       "      <td>Bampfylde Street Car Park</td>\n",
       "    </tr>\n",
       "    <tr>\n",
       "      <th>3</th>\n",
       "      <td>2014</td>\n",
       "      <td>Mar</td>\n",
       "      <td>2014-03-06</td>\n",
       "      <td>09:00</td>\n",
       "      <td>Purchase Count - Bampfylde Street Car Park</td>\n",
       "      <td>NaN</td>\n",
       "      <td>Bampfylde Street Car Park</td>\n",
       "    </tr>\n",
       "    <tr>\n",
       "      <th>4</th>\n",
       "      <td>2014</td>\n",
       "      <td>Mar</td>\n",
       "      <td>2014-03-06</td>\n",
       "      <td>10:00</td>\n",
       "      <td>Purchase Count - Bampfylde Street Car Park</td>\n",
       "      <td>NaN</td>\n",
       "      <td>Bampfylde Street Car Park</td>\n",
       "    </tr>\n",
       "  </tbody>\n",
       "</table>\n",
       "</div>"
      ],
      "text/plain": [
       "   Year Month        Date   Hour                                        Site  \\\n",
       "0  2014   Mar  2014-03-05  08:00  Purchase Count - Bampfylde Street Car Park   \n",
       "1  2014   Mar  2014-03-05  16:00  Purchase Count - Bampfylde Street Car Park   \n",
       "2  2014   Mar  2014-03-06  08:00  Purchase Count - Bampfylde Street Car Park   \n",
       "3  2014   Mar  2014-03-06  09:00  Purchase Count - Bampfylde Street Car Park   \n",
       "4  2014   Mar  2014-03-06  10:00  Purchase Count - Bampfylde Street Car Park   \n",
       "\n",
       "   Tickets                    SiteSub  \n",
       "0     10.0  Bampfylde Street Car Park  \n",
       "1      2.0  Bampfylde Street Car Park  \n",
       "2      NaN  Bampfylde Street Car Park  \n",
       "3      NaN  Bampfylde Street Car Park  \n",
       "4      NaN  Bampfylde Street Car Park  "
      ]
     },
     "execution_count": 26,
     "metadata": {},
     "output_type": "execute_result"
    }
   ],
   "source": [
    "car_park_tickets_sold = cat.car_park_tickets_sold().read()\n",
    "car_park_tickets_sold.head()"
   ]
  },
  {
   "cell_type": "markdown",
   "metadata": {},
   "source": [
    "### `read_chunked()`\n",
    "If you are accessing large datasets which you do not wish to load into memory you can call `read_chunked()`, this will return you a `dask` object such as a `dataframe`, `array` or `bag` or an object based on one of these primitives such as an iris cube (which contains a `dask.array`). This allows you to work lazily in a dask workflow where computations and data loading happen 'just in time'."
   ]
  },
  {
   "cell_type": "code",
   "execution_count": 28,
   "metadata": {},
   "outputs": [
    {
     "name": "stderr",
     "output_type": "stream",
     "text": [
      "Exception ignored in: <bound method CFReader.__del__ of CFReader('/s3/ncic/gridded-land-obs-daily/grid/netcdf/mean-temperature/ukcp09_gridded-land-obs-daily_5km_mean-temperature_19790101_19791231.nc')>\n",
      "Traceback (most recent call last):\n",
      "  File \"/opt/conda/lib/python3.6/site-packages/iris/fileformats/cf.py\", line 1124, in __del__\n",
      "    self._dataset.close()\n",
      "AttributeError: 'CFReader' object has no attribute '_dataset'\n"
     ]
    },
    {
     "data": {
      "text/plain": [
       "[<iris 'Cube' of air_temperature / (degC) (time: 20454; projection_y_coordinate: 290; projection_x_coordinate: 180)>,\n",
       "<iris 'Cube' of air_temperature / (degC) (time: 20454; projection_y_coordinate: 290; projection_x_coordinate: 180)>,\n",
       "<iris 'Cube' of air_temperature / (degC) (time: 20454; projection_y_coordinate: 290; projection_x_coordinate: 180)>,\n",
       "<iris 'Cube' of lwe_thickness_of_precipitation_amount / (mm) (time: 21184; projection_y_coordinate: 290; projection_x_coordinate: 180)>]"
      ]
     },
     "execution_count": 28,
     "metadata": {},
     "output_type": "execute_result"
    }
   ],
   "source": [
    "# This can take a while\n",
    "ncic = cat.ncic_daily_land_obs().read_chunked()\n",
    "ncic"
   ]
  },
  {
   "cell_type": "code",
   "execution_count": 29,
   "metadata": {},
   "outputs": [
    {
     "data": {
      "text/html": [
       "\n",
       "<style>\n",
       "  a.iris {\n",
       "      text-decoration: none !important;\n",
       "  }\n",
       "  table.iris {\n",
       "      white-space: pre;\n",
       "      border: 1px solid;\n",
       "      border-color: #9c9c9c;\n",
       "      font-family: monaco, monospace;\n",
       "  }\n",
       "  th.iris {\n",
       "      background: #303f3f;\n",
       "      color: #e0e0e0;\n",
       "      border-left: 1px solid;\n",
       "      border-color: #9c9c9c;\n",
       "      font-size: 1.05em;\n",
       "      min-width: 50px;\n",
       "      max-width: 125px;\n",
       "  }\n",
       "  tr.iris :first-child {\n",
       "      border-right: 1px solid #9c9c9c !important;\n",
       "  }\n",
       "  td.iris-title {\n",
       "      background: #d5dcdf;\n",
       "      border-top: 1px solid #9c9c9c;\n",
       "      font-weight: bold;\n",
       "  }\n",
       "  .iris-word-cell {\n",
       "      text-align: left !important;\n",
       "      white-space: pre;\n",
       "  }\n",
       "  .iris-subheading-cell {\n",
       "      padding-left: 2em !important;\n",
       "  }\n",
       "  .iris-inclusion-cell {\n",
       "      padding-right: 1em !important;\n",
       "  }\n",
       "  .iris-panel-body {\n",
       "      padding-top: 0px;\n",
       "  }\n",
       "  .iris-panel-title {\n",
       "      padding-left: 3em;\n",
       "  }\n",
       "  .iris-panel-title {\n",
       "      margin-top: 7px;\n",
       "  }\n",
       "</style>\n",
       "<table class=\"iris\" id=\"140229189284640\">\n",
       "    <tr class=\"iris\">\n",
       "<th class=\"iris iris-word-cell\">Lwe Thickness Of Precipitation Amount (mm)</th>\n",
       "<th class=\"iris iris-word-cell\">time</th>\n",
       "<th class=\"iris iris-word-cell\">projection_y_coordinate</th>\n",
       "<th class=\"iris iris-word-cell\">projection_x_coordinate</th>\n",
       "</tr>\n",
       "    <tr class=\"iris\">\n",
       "<td class=\"iris-word-cell iris-subheading-cell\">Shape</td>\n",
       "<td class=\"iris iris-inclusion-cell\">21184</td>\n",
       "<td class=\"iris iris-inclusion-cell\">290</td>\n",
       "<td class=\"iris iris-inclusion-cell\">180</td>\n",
       "</td>\n",
       "    <tr class=\"iris\">\n",
       "    <td class=\"iris-title iris-word-cell\">Dimension coordinates</td>\n",
       "    <td class=\"iris-title\"></td>\n",
       "    <td class=\"iris-title\"></td>\n",
       "    <td class=\"iris-title\"></td>\n",
       "</tr>\n",
       "<tr class=\"iris\">\n",
       "    <td class=\"iris-word-cell iris-subheading-cell\">\ttime</td>\n",
       "    <td class=\"iris-inclusion-cell\">x</td>\n",
       "    <td class=\"iris-inclusion-cell\">-</td>\n",
       "    <td class=\"iris-inclusion-cell\">-</td>\n",
       "</tr>\n",
       "<tr class=\"iris\">\n",
       "    <td class=\"iris-word-cell iris-subheading-cell\">\tprojection_y_coordinate</td>\n",
       "    <td class=\"iris-inclusion-cell\">-</td>\n",
       "    <td class=\"iris-inclusion-cell\">x</td>\n",
       "    <td class=\"iris-inclusion-cell\">-</td>\n",
       "</tr>\n",
       "<tr class=\"iris\">\n",
       "    <td class=\"iris-word-cell iris-subheading-cell\">\tprojection_x_coordinate</td>\n",
       "    <td class=\"iris-inclusion-cell\">-</td>\n",
       "    <td class=\"iris-inclusion-cell\">-</td>\n",
       "    <td class=\"iris-inclusion-cell\">x</td>\n",
       "</tr>\n",
       "<tr class=\"iris\">\n",
       "    <td class=\"iris-title iris-word-cell\">Auxiliary coordinates</td>\n",
       "    <td class=\"iris-title\"></td>\n",
       "    <td class=\"iris-title\"></td>\n",
       "    <td class=\"iris-title\"></td>\n",
       "</tr>\n",
       "<tr class=\"iris\">\n",
       "    <td class=\"iris-word-cell iris-subheading-cell\">\tlatitude</td>\n",
       "    <td class=\"iris-inclusion-cell\">-</td>\n",
       "    <td class=\"iris-inclusion-cell\">x</td>\n",
       "    <td class=\"iris-inclusion-cell\">x</td>\n",
       "</tr>\n",
       "<tr class=\"iris\">\n",
       "    <td class=\"iris-word-cell iris-subheading-cell\">\tlongitude</td>\n",
       "    <td class=\"iris-inclusion-cell\">-</td>\n",
       "    <td class=\"iris-inclusion-cell\">x</td>\n",
       "    <td class=\"iris-inclusion-cell\">x</td>\n",
       "</tr>\n",
       "<tr class=\"iris\">\n",
       "    <td class=\"iris-title iris-word-cell\">Attributes</td>\n",
       "    <td class=\"iris-title\"></td>\n",
       "    <td class=\"iris-title\"></td>\n",
       "    <td class=\"iris-title\"></td>\n",
       "</tr>\n",
       "<tr class=\"iris\">\n",
       "    <td class=\"iris-word-cell iris-subheading-cell\">\tConventions</td>\n",
       "    <td class=\"iris-word-cell\" colspan=\"3\">CF-1.5</td>\n",
       "</tr>\n",
       "<tr class=\"iris\">\n",
       "    <td class=\"iris-word-cell iris-subheading-cell\">\tcomment</td>\n",
       "    <td class=\"iris-word-cell\" colspan=\"3\">This dataset has been produced by Met Office in support of UKCP09</td>\n",
       "</tr>\n",
       "<tr class=\"iris\">\n",
       "    <td class=\"iris-word-cell iris-subheading-cell\">\tinstitution</td>\n",
       "    <td class=\"iris-word-cell\" colspan=\"3\">Met Office</td>\n",
       "</tr>\n",
       "<tr class=\"iris\">\n",
       "    <td class=\"iris-word-cell iris-subheading-cell\">\treferences</td>\n",
       "    <td class=\"iris-word-cell\" colspan=\"3\">doi: 10.1002/joc.1161</td>\n",
       "</tr>\n",
       "<tr class=\"iris\">\n",
       "    <td class=\"iris-word-cell iris-subheading-cell\">\tshort_name</td>\n",
       "    <td class=\"iris-word-cell\" colspan=\"3\">daily_rainfall</td>\n",
       "</tr>\n",
       "<tr class=\"iris\">\n",
       "    <td class=\"iris-word-cell iris-subheading-cell\">\tsource</td>\n",
       "    <td class=\"iris-word-cell\" colspan=\"3\">UKCP09</td>\n",
       "</tr>\n",
       "<tr class=\"iris\">\n",
       "    <td class=\"iris-word-cell iris-subheading-cell\">\ttitle</td>\n",
       "    <td class=\"iris-word-cell\" colspan=\"3\">UKCP09: Met Office Gridded land surface climate observations</td>\n",
       "</tr>\n",
       "<tr class=\"iris\">\n",
       "    <td class=\"iris-title iris-word-cell\">Cell methods</td>\n",
       "    <td class=\"iris-title\"></td>\n",
       "    <td class=\"iris-title\"></td>\n",
       "    <td class=\"iris-title\"></td>\n",
       "</tr>\n",
       "<tr class=\"iris\">\n",
       "    <td class=\"iris-word-cell iris-subheading-cell\">\tsum</td>\n",
       "    <td class=\"iris-word-cell\" colspan=\"3\">time</td>\n",
       "</tr>\n",
       "</table>\n",
       "        "
      ],
      "text/plain": [
       "<iris 'Cube' of lwe_thickness_of_precipitation_amount / (mm) (time: 21184; projection_y_coordinate: 290; projection_x_coordinate: 180)>"
      ]
     },
     "execution_count": 29,
     "metadata": {},
     "output_type": "execute_result"
    }
   ],
   "source": [
    "import iris\n",
    "[rainfall] = ncic.extract(iris.Constraint(name='lwe_thickness_of_precipitation_amount'))\n",
    "rainfall"
   ]
  },
  {
   "cell_type": "code",
   "execution_count": 30,
   "metadata": {},
   "outputs": [
    {
     "data": {
      "text/plain": [
       "True"
      ]
     },
     "execution_count": 30,
     "metadata": {},
     "output_type": "execute_result"
    }
   ],
   "source": [
    "rainfall.has_lazy_data()"
   ]
  }
 ],
 "metadata": {
  "kernelspec": {
   "display_name": "Python [default]",
   "language": "python",
   "name": "python3"
  },
  "language_info": {
   "codemirror_mode": {
    "name": "ipython",
    "version": 3
   },
   "file_extension": ".py",
   "mimetype": "text/x-python",
   "name": "python",
   "nbconvert_exporter": "python",
   "pygments_lexer": "ipython3",
   "version": "3.6.3"
  }
 },
 "nbformat": 4,
 "nbformat_minor": 2
}
