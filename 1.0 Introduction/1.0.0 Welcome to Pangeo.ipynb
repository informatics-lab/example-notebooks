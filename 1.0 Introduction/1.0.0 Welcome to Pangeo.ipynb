{
 "cells": [
  {
   "cell_type": "markdown",
   "metadata": {},
   "source": [
    "<img src='http://pangeo.io/_images/small_e_logo_cropped.png' width=350 />\n",
    "<img src='http://pangeo.io/_images/pangeo_simple_logo.svg' width=200 />\n",
    "\n",
    "## Our Goals\n",
    "\n",
    "1. Foster collaboration around the open source scientific python ecosystem for ocean / atmosphere / land / climate science.\n",
    "1. Support the development with domain-specific geoscience packages.\n",
    "1. Improve scalability of these tools to handle petabyte-scale datasets on HPC and cloud platforms.\n",
    "\n"
   ]
  },
  {
   "cell_type": "markdown",
   "metadata": {},
   "source": [
    "## Welcome\n",
    "\n",
    "Welcome to Pangeo. Specifically you are accessing a Pangeo stack which is operated by the [Met Office Informatics Lab](https://www.informaticslab.co.uk/). This platform aims to provide you with weather and climate data, tools to perform analysis on that data and infrastructure to run large calculations as part of that analysis.\n",
    "\n",
    "These examples are broken into a number of sections:\n",
    "\n",
    "## Contents\n",
    "\n",
    "### 1. Introductory Examples\n",
    "\n",
    "The first chapter of examples cover the tools, environment and data access. \n",
    "\n",
    "#### 1.0 Introduction\n",
    "\n",
    "Example notebooks which give an overview of Pangeo and the Jupyter environment.\n",
    "\n",
    "#### 1.1 Tools\n",
    "\n",
    "Notebooks covering the other tools and libraries which are included in the environment.\n",
    "\n",
    "#### 1.2 Data\n",
    "\n",
    "Notebooks with examples of discovering, loading and working with data.\n",
    "\n",
    "### 2. Domain Specific Examples\n",
    "\n",
    "The second chapter of examples over domain specific workflows.\n",
    "\n",
    "#### 2.1 Weather\n",
    "\n",
    "Notebooks with examples of working with weather data.\n",
    "\n",
    "#### 2.2 Climate\n",
    "\n",
    "Notebooks with examples of working with climate data.\n",
    "\n"
   ]
  }
 ],
 "metadata": {
  "kernelspec": {
   "display_name": "Python [default]",
   "language": "python",
   "name": "python3"
  },
  "language_info": {
   "codemirror_mode": {
    "name": "ipython",
    "version": 3
   },
   "file_extension": ".py",
   "mimetype": "text/x-python",
   "name": "python",
   "nbconvert_exporter": "python",
   "pygments_lexer": "ipython3",
   "version": "3.6.3"
  }
 },
 "nbformat": 4,
 "nbformat_minor": 2
}
