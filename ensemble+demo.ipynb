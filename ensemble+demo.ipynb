{
 "cells": [
  {
   "cell_type": "markdown",
   "metadata": {
    "extensions": {
     "jupyter_dashboards": {
      "version": 1,
      "views": {
       "grid_default": {
        "col": 0,
        "height": 2,
        "hidden": false,
        "row": 0,
        "width": 12
       },
       "report_default": {
        "hidden": false
       }
      }
     }
    }
   },
   "source": [
    "# Ensemble Visualisation"
   ]
  },
  {
   "cell_type": "markdown",
   "metadata": {},
   "source": [
    "This just installs a few libraries."
   ]
  },
  {
   "cell_type": "code",
   "execution_count": 4,
   "metadata": {
    "collapsed": false
   },
   "outputs": [],
   "source": [
    "# !conda install boto3 -y\n",
    "# !conda install -c scitools/label/dev -c conda-forge iris cartopy -y\n",
    "# !conda install -c conda-forge -c ioam holoviews geoviews -y\n",
    "# !conda upgrade -y holoviews"
   ]
  },
  {
   "cell_type": "code",
   "execution_count": 13,
   "metadata": {
    "collapsed": false,
    "extensions": {
     "jupyter_dashboards": {
      "version": 1,
      "views": {
       "grid_default": {
        "hidden": true
       },
       "report_default": {
        "hidden": true
       }
      }
     }
    },
    "nbpresent": {
     "id": "b3612a04-2c78-40f3-85df-d3423c414b23"
    }
   },
   "outputs": [
    {
     "data": {
      "text/html": [
       "\n",
       "<script src=\"https://code.jquery.com/ui/1.10.4/jquery-ui.min.js\" type=\"text/javascript\"></script>\n",
       "<script type=\"text/javascript\">function HoloViewsWidget(){\n",
       "}\n",
       "\n",
       "HoloViewsWidget.prototype.init_slider = function(init_val){\n",
       "\tif(this.load_json) {\n",
       "\t\tthis.from_json()\n",
       "\t} else {\n",
       "\t\tthis.update_cache();\n",
       "\t}\n",
       "}\n",
       "\n",
       "HoloViewsWidget.prototype.populate_cache = function(idx){\n",
       "    this.cache[idx].html(this.frames[idx]);\n",
       "    if (this.embed) {\n",
       "        delete this.frames[idx];\n",
       "    }\n",
       "}\n",
       "\n",
       "HoloViewsWidget.prototype.process_error = function(msg){\n",
       "\n",
       "}\n",
       "\n",
       "HoloViewsWidget.prototype.from_json = function() {\n",
       "\tvar data_url = this.json_path + this.id + '.json';\n",
       "\t$.getJSON(data_url, $.proxy(function(json_data) {\n",
       "\t\tthis.frames = json_data;\n",
       "\t\tthis.update_cache();\n",
       "\t\tthis.update(0);\n",
       "\t}, this));\n",
       "}\n",
       "\n",
       "HoloViewsWidget.prototype.dynamic_update = function(current){\n",
       "    function callback(msg){\n",
       "        /* This callback receives data from Python as a string\n",
       "         in order to parse it correctly quotes are sliced off*/\n",
       "        var data = msg.content.data['text/plain'].slice(1, -1);\n",
       "        this.frames[current] = data;\n",
       "        this.update_cache();\n",
       "        this.update(current);\n",
       "    }\n",
       "    if(!(current in this.cache)) {\n",
       "        var kernel = IPython.notebook.kernel;\n",
       "        callbacks = {iopub: {output: $.proxy(callback, this)}};\n",
       "        var cmd = \"holoviews.plotting.widgets.NdWidget.widgets['\" + this.id + \"'].update(\" + current + \")\";\n",
       "        kernel.execute(\"import holoviews;\" + cmd, callbacks, {silent : false});\n",
       "    } else {\n",
       "        this.update(current);\n",
       "    }\n",
       "}\n",
       "\n",
       "HoloViewsWidget.prototype.update_cache = function(){\n",
       "    var frame_len = Object.keys(this.frames).length;\n",
       "    for (var i=0; i<frame_len; i++) {\n",
       "        if(!this.load_json || this.dynamic)  {\n",
       "            frame = Object.keys(this.frames)[i];\n",
       "        } else {\n",
       "            frame = i;\n",
       "        }\n",
       "        if(!(frame in this.cache)) {\n",
       "            this.cache[frame] = $('<div />').appendTo(\"#\" + this.img_id).hide();\n",
       "            var cache_id = this.img_id+\"_\"+frame;\n",
       "            this.cache[frame].attr(\"id\", cache_id);\n",
       "            this.populate_cache(frame);\n",
       "        }\n",
       "    }\n",
       "}\n",
       "\n",
       "HoloViewsWidget.prototype.update = function(current){\n",
       "    if(current in this.cache) {\n",
       "        $.each(this.cache, function(index, value) {\n",
       "            value.hide();\n",
       "        });\n",
       "        this.cache[current].show();\n",
       "\t\tthis.wait = false;\n",
       "    }\n",
       "}\n",
       "\n",
       "\n",
       "function SelectionWidget(frames, id, slider_ids, keyMap, dim_vals, notFound, load_json, mode, cached, json_path, dynamic){\n",
       "    this.frames = frames;\n",
       "    this.fig_id = \"fig_\" + id;\n",
       "    this.img_id = \"_anim_img\" + id;\n",
       "    this.id = id;\n",
       "    this.slider_ids = slider_ids;\n",
       "    this.keyMap = keyMap\n",
       "    this.current_frame = 0;\n",
       "    this.current_vals = dim_vals;\n",
       "    this.load_json = load_json;\n",
       "    this.mode = mode;\n",
       "    this.notFound = notFound;\n",
       "    this.cached = cached;\n",
       "    this.dynamic = dynamic;\n",
       "    this.cache = {};\n",
       "\tthis.json_path = json_path;\n",
       "    this.init_slider(this.current_vals[0]);\n",
       "\tthis.queue = [];\n",
       "\tthis.wait = false;\n",
       "}\n",
       "\n",
       "SelectionWidget.prototype = new HoloViewsWidget;\n",
       "\n",
       "\n",
       "SelectionWidget.prototype.get_key = function(current_vals) {\n",
       "\tvar key = \"(\";\n",
       "    for (var i=0; i<this.slider_ids.length; i++)\n",
       "    {\n",
       "        val = this.current_vals[i];\n",
       "        if (!(typeof val === 'string')) {\n",
       "            if (val % 1 === 0) { var fixed = 1;}\n",
       "            else { var fixed = 10;}\n",
       "            val = val.toFixed(fixed)\n",
       "        }\n",
       "        key += \"'\" + val + \"'\";\n",
       "        if(i != this.slider_ids.length-1) { key += ', ';}\n",
       "        else if(this.slider_ids.length == 1) { key += ',';}\n",
       "    }\n",
       "    key += \")\";\n",
       "\treturn this.keyMap[key];\n",
       "}\n",
       "\n",
       "SelectionWidget.prototype.set_frame = function(dim_val, dim_idx){\n",
       "\tthis.current_vals[dim_idx] = dim_val;\n",
       "    var current = this.get_key(this.current_vals);\n",
       "    if(current === undefined && !this.dynamic) {\n",
       "        return\n",
       "    }\n",
       "\tif (this.dynamic || !this.cached) {\n",
       "\t\tif (this.time === undefined) {\n",
       "\t\t\t// Do nothing the first time\n",
       "\t\t} else if ((this.timed === undefined) || ((this.time + this.timed) > Date.now())) {\n",
       "\t\t\tvar key = this.current_vals;\n",
       "\t\t\tif (!this.dynamic) {\n",
       "\t\t\t\tkey = this.get_key(key);\n",
       "\t\t\t}\n",
       "\t\t\tthis.queue.push(key);\n",
       "\t\t\treturn\n",
       "\t\t}\n",
       "\t}\n",
       "\tthis.queue = [];\n",
       "\tthis.time = Date.now();\n",
       "    if(this.dynamic) {\n",
       "        this.dynamic_update(this.current_vals)\n",
       "        return;\n",
       "    }\n",
       "    this.current_frame = current;\n",
       "    if(this.cached) {\n",
       "        this.update(current)\n",
       "    } else {\n",
       "        this.dynamic_update(current)\n",
       "    }\n",
       "}\n",
       "\n",
       "\n",
       "/* Define the ScrubberWidget class */\n",
       "function ScrubberWidget(frames, num_frames, id, interval, load_json, mode, cached, json_path, dynamic){\n",
       "    this.img_id = \"_anim_img\" + id;\n",
       "    this.slider_id = \"_anim_slider\" + id;\n",
       "    this.loop_select_id = \"_anim_loop_select\" + id;\n",
       "    this.id = id;\n",
       "    this.fig_id = \"fig_\" + id;\n",
       "    this.interval = interval;\n",
       "    this.current_frame = 0;\n",
       "    this.direction = 0;\n",
       "    this.dynamic = dynamic;\n",
       "    this.timer = null;\n",
       "    this.load_json = load_json;\n",
       "    this.mode = mode;\n",
       "    this.cached = cached;\n",
       "    this.frames = frames;\n",
       "    this.cache = {};\n",
       "    this.length = num_frames;\n",
       "\tthis.json_path = json_path;\n",
       "    document.getElementById(this.slider_id).max = this.length - 1;\n",
       "    this.init_slider(0);\n",
       "\tthis.wait = false;\n",
       "\tthis.queue = [];\n",
       "}\n",
       "\n",
       "ScrubberWidget.prototype = new HoloViewsWidget;\n",
       "\n",
       "ScrubberWidget.prototype.set_frame = function(frame){\n",
       "\tthis.current_frame = frame;\n",
       "\twidget = document.getElementById(this.slider_id);\n",
       "    if (widget === null) {\n",
       "        this.pause_animation();\n",
       "        return\n",
       "    }\n",
       "    widget.value = this.current_frame;\n",
       "    if(this.cached) {\n",
       "        this.update(frame)\n",
       "    } else {\n",
       "        this.dynamic_update(frame)\n",
       "    }\n",
       "}\n",
       "\n",
       "\n",
       "ScrubberWidget.prototype.process_error = function(msg){\n",
       "\tif (msg.content.ename === 'StopIteration') {\n",
       "\t\tthis.pause_animation();\n",
       "\t\tthis.stopped = true;\n",
       "\t\tvar keys = Object.keys(this.frames)\n",
       "\t\tthis.length = keys.length;\n",
       "\t\tdocument.getElementById(this.slider_id).max = this.length-1;\n",
       "\t\tdocument.getElementById(this.slider_id).value = this.length-1;\n",
       "\t\tthis.current_frame = this.length-1;\n",
       "\t}\n",
       "}\n",
       "\n",
       "\n",
       "ScrubberWidget.prototype.get_loop_state = function(){\n",
       "    var button_group = document[this.loop_select_id].state;\n",
       "    for (var i = 0; i < button_group.length; i++) {\n",
       "        var button = button_group[i];\n",
       "        if (button.checked) {\n",
       "            return button.value;\n",
       "        }\n",
       "    }\n",
       "    return undefined;\n",
       "}\n",
       "\n",
       "\n",
       "ScrubberWidget.prototype.next_frame = function() {\n",
       "\tif (this.dynamic || !this.cached) {\n",
       "\t\tif (this.wait) {\n",
       "\t\t\treturn\n",
       "\t\t}\n",
       "\t\tthis.wait = true;\n",
       "\t}\n",
       "\tif (this.dynamic && this.current_frame + 1 >= this.length) {\n",
       "\t\tthis.length += 1;\n",
       "        document.getElementById(this.slider_id).max = this.length-1;\n",
       "\t}\n",
       "    this.set_frame(Math.min(this.length - 1, this.current_frame + 1));\n",
       "}\n",
       "\n",
       "ScrubberWidget.prototype.previous_frame = function() {\n",
       "    this.set_frame(Math.max(0, this.current_frame - 1));\n",
       "}\n",
       "\n",
       "ScrubberWidget.prototype.first_frame = function() {\n",
       "    this.set_frame(0);\n",
       "}\n",
       "\n",
       "ScrubberWidget.prototype.last_frame = function() {\n",
       "    this.set_frame(this.length - 1);\n",
       "}\n",
       "\n",
       "ScrubberWidget.prototype.slower = function() {\n",
       "    this.interval /= 0.7;\n",
       "    if(this.direction > 0){this.play_animation();}\n",
       "    else if(this.direction < 0){this.reverse_animation();}\n",
       "}\n",
       "\n",
       "ScrubberWidget.prototype.faster = function() {\n",
       "    this.interval *= 0.7;\n",
       "    if(this.direction > 0){this.play_animation();}\n",
       "    else if(this.direction < 0){this.reverse_animation();}\n",
       "}\n",
       "\n",
       "ScrubberWidget.prototype.anim_step_forward = function() {\n",
       "    if(this.current_frame < this.length || (this.dynamic && !this.stopped)){\n",
       "        this.next_frame();\n",
       "    }else{\n",
       "        var loop_state = this.get_loop_state();\n",
       "        if(loop_state == \"loop\"){\n",
       "            this.first_frame();\n",
       "        }else if(loop_state == \"reflect\"){\n",
       "            this.last_frame();\n",
       "            this.reverse_animation();\n",
       "        }else{\n",
       "            this.pause_animation();\n",
       "            this.last_frame();\n",
       "        }\n",
       "    }\n",
       "}\n",
       "\n",
       "ScrubberWidget.prototype.anim_step_reverse = function() {\n",
       "    this.current_frame -= 1;\n",
       "    if(this.current_frame >= 0){\n",
       "        this.set_frame(this.current_frame);\n",
       "    } else {\n",
       "        var loop_state = this.get_loop_state();\n",
       "        if(loop_state == \"loop\"){\n",
       "            this.last_frame();\n",
       "        }else if(loop_state == \"reflect\"){\n",
       "            this.first_frame();\n",
       "            this.play_animation();\n",
       "        }else{\n",
       "            this.pause_animation();\n",
       "            this.first_frame();\n",
       "        }\n",
       "    }\n",
       "}\n",
       "\n",
       "ScrubberWidget.prototype.pause_animation = function() {\n",
       "    this.direction = 0;\n",
       "    if (this.timer){\n",
       "        clearInterval(this.timer);\n",
       "        this.timer = null;\n",
       "    }\n",
       "}\n",
       "\n",
       "ScrubberWidget.prototype.play_animation = function() {\n",
       "    this.pause_animation();\n",
       "    this.direction = 1;\n",
       "    var t = this;\n",
       "    if (!this.timer) this.timer = setInterval(function(){t.anim_step_forward();}, this.interval);\n",
       "}\n",
       "\n",
       "ScrubberWidget.prototype.reverse_animation = function() {\n",
       "    this.pause_animation();\n",
       "    this.direction = -1;\n",
       "    var t = this;\n",
       "    if (!this.timer) this.timer = setInterval(function(){t.anim_step_reverse();}, this.interval);\n",
       "}\n",
       "\n",
       "function extend(destination, source) {\n",
       "    for (var k in source) {\n",
       "        if (source.hasOwnProperty(k)) {\n",
       "            destination[k] = source[k];\n",
       "        }\n",
       "    }\n",
       "    return destination;\n",
       "}\n",
       "\n",
       "function update_widget(widget, values) {\n",
       "\tif (widget.hasClass(\"ui-slider\")) {\n",
       "\t\twidget.slider('option',\n",
       "\t\t\t\t\t  {'min': 0, 'max': values.length-1,\n",
       "\t\t\t\t\t   'dim_vals': values, 'value': 0,\n",
       "\t\t\t\t\t   'dim_labels': values})\n",
       "\t\twidget.slider('option', 'slide').call(widget, event, {'value': 0})\n",
       "\t} else {\n",
       "\t\twidget.empty();\n",
       "\t\tfor (var i=0; i<values.length; i++){\n",
       "\t\t\twidget.append($(\"<option>\", {\n",
       "\t\t\t\tvalue: i,\n",
       "\t\t\t\ttext: values[i]\n",
       "\t\t\t}))};\n",
       "\t\twidget.data('values', values);\n",
       "\t\twidget.data('value', 0);\n",
       "\t\twidget.trigger(\"change\");\n",
       "\t};\n",
       "}\n",
       "\n",
       "// Define MPL specific subclasses\n",
       "function MPLSelectionWidget() {\n",
       "\tSelectionWidget.apply(this, arguments);\n",
       "}\n",
       "\n",
       "function MPLScrubberWidget() {\n",
       "\tScrubberWidget.apply(this, arguments);\n",
       "}\n",
       "\n",
       "// Let them inherit from the baseclasses\n",
       "MPLSelectionWidget.prototype = Object.create(SelectionWidget.prototype);\n",
       "MPLScrubberWidget.prototype = Object.create(ScrubberWidget.prototype);\n",
       "\n",
       "// Define methods to override on widgets\n",
       "var MPLMethods = {\n",
       "\tinit_slider : function(init_val){\n",
       "\t\tif(this.load_json) {\n",
       "\t\t\tthis.from_json()\n",
       "\t\t} else {\n",
       "\t\t\tthis.update_cache();\n",
       "\t\t}\n",
       "\t\tthis.update(0);\n",
       "\t\tif(this.mode == 'nbagg') {\n",
       "\t\t\tthis.set_frame(init_val, 0);\n",
       "\t\t}\n",
       "\t},\n",
       "\tpopulate_cache : function(idx){\n",
       "\t\tvar cache_id = this.img_id+\"_\"+idx;\n",
       "\t\tif(this.mode == 'mpld3') {\n",
       "\t\t\tmpld3.draw_figure(cache_id, this.frames[idx]);\n",
       "\t\t} else {\n",
       "\t\t\tthis.cache[idx].html(this.frames[idx]);\n",
       "\t\t}\n",
       "\t\tif (this.embed) {\n",
       "\t\t\tdelete this.frames[idx];\n",
       "\t\t}\n",
       "\t},\n",
       "\tdynamic_update : function(current){\n",
       "\t\tif (this.dynamic) {\n",
       "\t\t\tcurrent = JSON.stringify(current);\n",
       "\t\t}\n",
       "\t\tfunction callback(msg){\n",
       "\t\t\t/* This callback receives data from Python as a string\n",
       "\t\t\t in order to parse it correctly quotes are sliced off*/\n",
       "\t\t\tif (msg.content.ename != undefined) {\n",
       "\t\t\t\tthis.process_error(msg);\n",
       "\t\t\t}\n",
       "\t\t\tif (msg.msg_type != \"execute_result\") {\n",
       "\t\t\t\tconsole.log(\"Warning: HoloViews callback returned unexpected data for key: (\", current, \") with the following content:\", msg.content)\n",
       "\t\t\t\tthis.time = undefined;\n",
       "\t\t\t\treturn\n",
       "\t\t\t}\n",
       "\t\t\tif (!(this.mode == 'nbagg')) {\n",
       "\t\t\t\tif(!(current in this.cache)) {\n",
       "\t\t\t\t\tvar data = msg.content.data['text/plain'].slice(1, -1);\n",
       "\t\t\t\t\tif(this.mode == 'mpld3'){\n",
       "\t\t\t\t\t\tdata = JSON.parse(data)[0];\n",
       "\t\t\t\t\t}\n",
       "\t\t\t\t\tthis.frames[current] = data;\n",
       "\t\t\t\t\tthis.update_cache();\n",
       "\t\t\t\t}\n",
       "\t\t\t\tthis.update(current);\n",
       "\t\t\t}\n",
       "\t\t\tthis.timed = (Date.now() - this.time) * 1.5;\n",
       "\t\t\tthis.wait = false;\n",
       "\t\t\tif (this.queue.length > 0) {\n",
       "\t\t\t\tvar current_vals = this.queue[this.queue.length-1];\n",
       "\t\t\t\tthis.time = Date.now();\n",
       "\t\t\t\tthis.dynamic_update(current_vals);\n",
       "\t\t\t\tthis.queue = [];\n",
       "\t\t\t}\n",
       "\t\t}\n",
       "\t\tvar kernel = IPython.notebook.kernel;\n",
       "\t\tcallbacks = {iopub: {output: $.proxy(callback, this)}};\n",
       "\t\tvar cmd = \"holoviews.plotting.widgets.NdWidget.widgets['\" + this.id + \"'].update(\" + current + \")\";\n",
       "\t\tkernel.execute(\"import holoviews;\" + cmd, callbacks, {silent : false});\n",
       "\t}\n",
       "}\n",
       "\n",
       "// Extend MPL widgets with backend specific methods\n",
       "extend(MPLSelectionWidget.prototype, MPLMethods);\n",
       "extend(MPLScrubberWidget.prototype, MPLMethods);\n",
       "</script>\n",
       "\n",
       "\n",
       "<link rel=\"stylesheet\" href=\"https://code.jquery.com/ui/1.10.4/themes/smoothness/jquery-ui.css\">\n",
       "<style>div.hololayout {\n",
       "    display: flex;\n",
       "    align-items: center;\n",
       "    margin: 0;\n",
       "}\n",
       "\n",
       "div.holoframe {\n",
       "\twidth: 75%;\n",
       "}\n",
       "\n",
       "div.holowell {\n",
       "    display: flex;\n",
       "    align-items: center;\n",
       "    margin: 0;\n",
       "}\n",
       "\n",
       "form.holoform {\n",
       "    background-color: #fafafa;\n",
       "    border-radius: 5px;\n",
       "    overflow: hidden;\n",
       "\tpadding-left: 0.8em;\n",
       "    padding-right: 0.8em;\n",
       "    padding-top: 0.4em;\n",
       "    padding-bottom: 0.4em;\n",
       "}\n",
       "\n",
       "div.holowidgets {\n",
       "    padding-right: 0;\n",
       "\twidth: 25%;\n",
       "}\n",
       "\n",
       "div.holoslider {\n",
       "    min-height: 0 !important;\n",
       "    height: 0.8em;\n",
       "    width: 60%;\n",
       "}\n",
       "\n",
       "div.holoformgroup {\n",
       "    padding-top: 0.5em;\n",
       "    margin-bottom: 0.5em;\n",
       "}\n",
       "\n",
       "div.hologroup {\n",
       "    padding-left: 0;\n",
       "    padding-right: 0.8em;\n",
       "    width: 50%;\n",
       "}\n",
       "\n",
       ".holoselect {\n",
       "    width: 92%;\n",
       "    margin-left: 0;\n",
       "    margin-right: 0;\n",
       "}\n",
       "\n",
       ".holotext {\n",
       "    width: 100%;\n",
       "    padding-left:  0.5em;\n",
       "    padding-right: 0;\n",
       "}\n",
       "\n",
       ".holowidgets .ui-resizable-se {\n",
       "\tvisibility: hidden\n",
       "}\n",
       "\n",
       ".holoframe > .ui-resizable-se {\n",
       "\tvisibility: hidden\n",
       "}\n",
       "\n",
       ".holowidgets .ui-resizable-s {\n",
       "\tvisibility: hidden\n",
       "}\n",
       "</style>\n",
       "\n",
       "\n",
       "<div>\n",
       "<img src='data:image/png;base64,iVBORw0KGgoAAAANSUhEUgAAABkAAAAZCAIAAABLixI0AAAACXBIWXMAAAsTAAALEwEAmpwYAAAAB3RJTUUH3wkCDDIOi3cusgAABT1JREFUOMtVlclvG2UYh3/fMovHe53FThySNHZomrRJl6QR0AJdpVblQBEHJC4ciipxAgmO3PgPEP8BQkIsRUJUSF1oqGih0JY2CtnjOLGz2Em8xPbMeL6Pw9RJOprLjPT+5tH7Pu83JE7pqeHh8wMD2evfyXMXf/nxB2FZo6dPNzVHvvr6GxMQeOEigARswNzzUgK6x8NagPzS0nqxODQ62nLn1xMnX99/eLC3sGVROj2/IBxHABKgANlzM4ACTuMRAOecNREiAWtzc0NIEu/M37zVMTWeqlrpUDg1M7NTVgdkowwvxqGRRV1CE8jOznq7uhYAi2CpXtdVVQE4QAAdCAAGwAAJyEa9Amh7PsAihBBAABrg1XUfpe3bxTXb8XR0WJa1VSzWGyAcUAEVoIAARIMOQH2HC4AA6lKW8/n9Pm/Ahl4zV8fGTg0PtzQ3K3tA3GId8AO+BqZLt8sFQKE0GouRSkWtFM63KV0Vy1rJhN44k56cFFI6exJ3MBWANACVHS63aw5QtutVVT/4xWfHv/0ylytmHvx56sIFLxACfIABGIAf8ANRn++9y5evXrkS0XWXd5dLJWRfOHwspA1tr4iFtP3gD8/apjCtSDiyQYhZKNA94wOQTCQPhfzm9FTJH8jn84Tz3SyPlEQ4vf0Dt5/MPE5vpVObzQbxqvaDdL731MnWnh5pmsxxdE3rTCZfO3u2FbL6+2+hzpcKwXA2ldrNUgAVII7TMXhkZnzcAQTgAWI6sgV7YmKivLra1tFxMJk4Ho/r5fLy3btsYS7JHL1YoeHQKldKhcLzLNcdlRDOWDgczuVyOtDt4yN9gRYVmc161TTLmYw9P9e8OHcU5dG2fa3EmhNyKjGwROmzZ8+YqlIAKsDd9jtOenIy1t8vgDJQtuvYrjRT0kMQBRIUQxqSXkSDUIO0YAulvdfxGk/u33eVZs2EeBvu6gCjtKW7Oz81xQBhI73mtATQn/BuZ6wTrezsYX+1Jn+aNR8sl9Zb47l4/O+HD2u27QDgnHUQwhvKuFmRaLS2tkZsmwJSQpqIUzHYyynndx5t/1Vy5gXyhMhorEJIKpViQB0QnFNlZzkbdExRhBAckIAFbFXFetkpg94er004WK6jCniamrRAYHlmxhXFtWTXVfW50SQYDjvVKm+YHVMR10G5VAGrcWAohkEVpbC1RRo7QN2mS0BzuQiJHziwMTurAwrgBTo95NVjnshb3XaF9q1MTM7VeWNv6kJQgAISYAAHuARUQAHA2NCZM35KJ27c6KA4YiBXJlpVro5bkaGN2mStsCy8gAXobpyU7iFhAgxQAB40jMHh4WhnJ6nVpsfGVjOZUQMhi40k9K1FqQZI4ogffd3k33GPobTb5kCIFmriEYjgnABao60KwD68eCnz5PH0vXsr4+OsVIpRvNmpnLvQEozRpm5vxAP107dx+RMlvGTcmw7Xle6DwZlsdbZY05qbAq2ta9msCkhAcM4+yv+3uFZWAA+gA5pEaUOUnpaMohb+/BK7+j76r4IliFoyAv9EjsZ4ZbMmyOKqmdvciiWTL4+OUsY8mkY554d7okGyciuHqgQFVIABlkJ9fV44FLFrz8ecuIZ3u6offzD1fSnFmJSgle35mzcdVQ1Eo23B4Eh7lJdWNgZGohM/r5QAjZEoaDzi0TfKPlFDV/KF35mqs0NN1v3iRrqqAT7Xbdti6UXPImKZaf5SQiUBtAIG0OVXXnmnDUJWb9nET7D8VPba7pAJTKRnxPUpI+v0BXlApZPrlgDaCTke1VqaaLZC/wesjSVVF5Ac7QAAAABJRU5ErkJggg=='\n",
       "     style='width:25px;height:25px; border-radius:12px;'/>\n",
       "\n",
       "HoloViewsJS, MatplotlibJS successfully loaded in this cell.\n",
       "</div>\n"
      ],
      "text/plain": [
       "<IPython.core.display.HTML object>"
      ]
     },
     "metadata": {},
     "output_type": "display_data"
    }
   ],
   "source": [
    "import boto3\n",
    "import tempfile\n",
    "import pickle\n",
    "import operator\n",
    "import functools as fp\n",
    "\n",
    "import holoviews as hv\n",
    "import geoviews as gv\n",
    "\n",
    "from cartopy import crs\n",
    "from cartopy import feature as cf\n",
    "from geoviews import feature as gf\n",
    "\n",
    "hv.notebook_extension('matplotlib')"
   ]
  },
  {
   "cell_type": "markdown",
   "metadata": {
    "extensions": {
     "jupyter_dashboards": {
      "version": 1,
      "views": {
       "grid_default": {
        "col": 0,
        "height": 4,
        "hidden": false,
        "row": 57,
        "width": 4
       },
       "report_default": {}
      }
     }
    }
   },
   "source": [
    "We'll load some canned data from an S3 bucket and unpickle it"
   ]
  },
  {
   "cell_type": "code",
   "execution_count": 6,
   "metadata": {
    "collapsed": false,
    "extensions": {
     "jupyter_dashboards": {
      "version": 1,
      "views": {
       "grid_default": {
        "hidden": true
       },
       "report_default": {}
      }
     }
    }
   },
   "outputs": [
    {
     "name": "stderr",
     "output_type": "stream",
     "text": [
      "INFO:botocore.vendored.requests.packages.urllib3.connectionpool:Starting new HTTP connection (1): 169.254.169.254\n",
      "INFO:botocore.vendored.requests.packages.urllib3.connectionpool:Starting new HTTP connection (1): 169.254.169.254\n",
      "INFO:botocore.credentials:Found credentials from IAM Role: jade-secrets\n",
      "INFO:botocore.vendored.requests.packages.urllib3.connectionpool:Starting new HTTPS connection (1): mogreps-pickles.s3.amazonaws.com\n"
     ]
    }
   ],
   "source": [
    "client = boto3.client('s3')\n",
    "temp = tempfile.NamedTemporaryFile()\n",
    "client.download_file('mogreps-pickles', 'demo_mogreps', temp.name)\n",
    "with open(temp.name, 'rb') as pickle_file:\n",
    "    cube = pickle.load(pickle_file)"
   ]
  },
  {
   "cell_type": "markdown",
   "metadata": {
    "extensions": {
     "jupyter_dashboards": {
      "version": 1,
      "views": {
       "grid_default": {
        "col": 0,
        "height": 4,
        "hidden": false,
        "row": 61,
        "width": 4
       },
       "report_default": {}
      }
     }
    }
   },
   "source": [
    "Now we have an iris cube containing relative humidity data for 33 ensemble members."
   ]
  },
  {
   "cell_type": "code",
   "execution_count": 7,
   "metadata": {
    "collapsed": false,
    "extensions": {
     "jupyter_dashboards": {
      "version": 1,
      "views": {
       "grid_default": {
        "col": 0,
        "height": 13,
        "hidden": true,
        "row": 0,
        "width": 4
       },
       "report_default": {
        "hidden": true
       }
      }
     }
    },
    "nbpresent": {
     "id": "4b0835c8-1273-482c-a3ec-2720ce214a50"
    }
   },
   "outputs": [
    {
     "name": "stdout",
     "output_type": "stream",
     "text": [
      "relative_humidity / (%)             (realization: 33; latitude: 100; longitude: 66)\n",
      "     Dimension coordinates:\n",
      "          realization                           x             -               -\n",
      "          latitude                              -             x               -\n",
      "          longitude                             -             -               x\n",
      "     Scalar coordinates:\n",
      "          forecast_period: 0.0 hours\n",
      "          forecast_reference_time: 2016-08-25 00:00:00\n",
      "          pressure: 100.0 hPa\n",
      "          time: 2016-08-25 00:00:00\n",
      "     Attributes:\n",
      "          STASH: m01s16i256\n",
      "          source: Data from Met Office Unified Model\n",
      "          um_version: 10.2\n"
     ]
    }
   ],
   "source": [
    "print(cube)"
   ]
  },
  {
   "cell_type": "markdown",
   "metadata": {
    "extensions": {
     "jupyter_dashboards": {
      "version": 1,
      "views": {
       "grid_default": {
        "col": 6,
        "height": 4,
        "hidden": false,
        "row": 70,
        "width": 4
       },
       "report_default": {}
      }
     }
    }
   },
   "source": [
    "Geoviews can load data straight from iris. We just need to name the dimensions."
   ]
  },
  {
   "cell_type": "code",
   "execution_count": 11,
   "metadata": {
    "collapsed": false,
    "extensions": {
     "jupyter_dashboards": {
      "version": 1,
      "views": {
       "grid_default": {
        "col": 8,
        "height": 4,
        "hidden": true,
        "row": 0,
        "width": 4
       },
       "report_default": {
        "hidden": true
       }
      }
     }
    },
    "nbpresent": {
     "id": "2145d93f-c1b3-4db9-81e7-d0ffe74fc52f"
    }
   },
   "outputs": [],
   "source": [
    "xr_dataset = gv.Dataset(cube, crs=crs.PlateCarree(), \n",
    "                        kdims=['realization','latitude','longitude'],\n",
    "                        vdims=['relative_humidity'])"
   ]
  },
  {
   "cell_type": "markdown",
   "metadata": {
    "extensions": {
     "jupyter_dashboards": {
      "version": 1,
      "views": {
       "grid_default": {
        "col": 0,
        "height": 2,
        "hidden": false,
        "row": 2,
        "width": 12
       },
       "report_default": {
        "hidden": false
       }
      }
     }
    }
   },
   "source": [
    "## Postage stamps"
   ]
  },
  {
   "cell_type": "markdown",
   "metadata": {
    "extensions": {
     "jupyter_dashboards": {
      "version": 1,
      "views": {
       "grid_default": {
        "col": 6,
        "height": 4,
        "hidden": false,
        "row": 74,
        "width": 4
       },
       "report_default": {}
      }
     }
    }
   },
   "source": [
    "Now that we have a geoviews dataset, we can convert the lat-long slices into images. "
   ]
  },
  {
   "cell_type": "code",
   "execution_count": 14,
   "metadata": {
    "collapsed": false,
    "extensions": {
     "jupyter_dashboards": {
      "version": 1,
      "views": {
       "grid_default": {
        "col": 0,
        "height": 11,
        "hidden": false,
        "row": 4,
        "width": 11
       },
       "report_default": {
        "hidden": false
       }
      }
     }
    },
    "nbpresent": {
     "id": "437cc63c-a127-422f-8219-147de0548e84"
    }
   },
   "outputs": [
    {
     "name": "stderr",
     "output_type": "stream",
     "text": [
      "/opt/conda/envs/py34/lib/python3.4/site-packages/cartopy/io/__init__.py:264: DownloadWarning: Downloading: http://naciscdn.org/naturalearth/110m/physical/ne_110m_coastline.zip\n",
      "  warnings.warn('Downloading: {}'.format(url), DownloadWarning)\n"
     ]
    },
    {
     "data": {
      "text/html": [
       "<img src='data:image/png;base64,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' style='max-width:100%; margin: auto; display: block; '/>"
      ],
      "text/plain": [
       "b':NdLayout   [realization]\\n   :Overlay\\n      .Relative_humidity.I :Image   [longitude,latitude]   (relative_humidity)\\n      .Coastline.I         :Feature   [Longitude,Latitude]'"
      ]
     },
     "execution_count": 14,
     "metadata": {},
     "output_type": "execute_result"
    }
   ],
   "source": [
    "%output size=40\n",
    "rel_hum = xr_dataset.to(gv.Image, ['longitude', 'latitude']) * gf.coastline\n",
    "rel_hum.layout().cols(11)"
   ]
  },
  {
   "cell_type": "markdown",
   "metadata": {
    "extensions": {
     "jupyter_dashboards": {
      "version": 1,
      "views": {
       "grid_default": {
        "col": 0,
        "height": 4,
        "hidden": false,
        "row": 15,
        "width": 4
       },
       "report_default": {
        "hidden": false
       }
      }
     }
    }
   },
   "source": [
    "## Or show just one at a time..."
   ]
  },
  {
   "cell_type": "markdown",
   "metadata": {
    "extensions": {
     "jupyter_dashboards": {
      "version": 1,
      "views": {
       "grid_default": {
        "col": 7,
        "height": 4,
        "hidden": false,
        "row": 15,
        "width": 3
       },
       "report_default": {
        "hidden": false
       }
      }
     }
    }
   },
   "source": [
    "## (and we'll throw in a histogram for good measure)"
   ]
  },
  {
   "cell_type": "markdown",
   "metadata": {
    "extensions": {
     "jupyter_dashboards": {
      "version": 1,
      "views": {
       "grid_default": {
        "col": 6,
        "height": 4,
        "hidden": false,
        "row": 78,
        "width": 4
       },
       "report_default": {}
      }
     }
    }
   },
   "source": [
    "If we don't specify how the dataset should be displayed, geoviews will make an educated guess."
   ]
  },
  {
   "cell_type": "code",
   "execution_count": null,
   "metadata": {
    "collapsed": false,
    "extensions": {
     "jupyter_dashboards": {
      "version": 1,
      "views": {
       "grid_default": {
        "col": 0,
        "height": 14,
        "hidden": true,
        "row": 25,
        "width": 12
       },
       "report_default": {
        "hidden": true
       }
      }
     }
    },
    "nbpresent": {
     "id": "a8065111-13fb-45fb-ac1c-5146ae1b7bb2"
    }
   },
   "outputs": [],
   "source": [
    "%output size=150\n",
    "rel_hum"
   ]
  },
  {
   "cell_type": "markdown",
   "metadata": {
    "extensions": {
     "jupyter_dashboards": {
      "version": 1,
      "views": {
       "grid_default": {
        "hidden": true
       },
       "report_default": {}
      }
     }
    }
   },
   "source": [
    "It also comes with some helper methods. This one adds a histogram of the values in each realization."
   ]
  },
  {
   "cell_type": "code",
   "execution_count": null,
   "metadata": {
    "collapsed": false,
    "extensions": {
     "jupyter_dashboards": {
      "version": 1,
      "views": {
       "grid_default": {
        "col": 0,
        "height": 14,
        "hidden": false,
        "row": 19,
        "width": 12
       },
       "report_default": {
        "hidden": false
       }
      }
     }
    }
   },
   "outputs": [],
   "source": [
    "rel_hum.hist()"
   ]
  },
  {
   "cell_type": "markdown",
   "metadata": {
    "extensions": {
     "jupyter_dashboards": {
      "version": 1,
      "views": {
       "grid_default": {
        "col": 0,
        "height": 3,
        "hidden": false,
        "row": 33,
        "width": 12
       },
       "report_default": {
        "hidden": false
       }
      }
     }
    }
   },
   "source": [
    "## Spagetti plots!"
   ]
  },
  {
   "cell_type": "markdown",
   "metadata": {
    "extensions": {
     "jupyter_dashboards": {
      "version": 1,
      "views": {
       "grid_default": {
        "col": 1,
        "height": 2,
        "hidden": false,
        "row": 36,
        "width": 4
       },
       "report_default": {
        "hidden": false
       }
      }
     }
    }
   },
   "source": [
    "## One at a time..."
   ]
  },
  {
   "cell_type": "markdown",
   "metadata": {},
   "source": [
    "As well as displaying a raster image, we can use other such as contour lines."
   ]
  },
  {
   "cell_type": "code",
   "execution_count": null,
   "metadata": {
    "collapsed": false,
    "extensions": {
     "jupyter_dashboards": {
      "version": 1,
      "views": {
       "grid_default": {
        "col": 0,
        "height": 13,
        "hidden": false,
        "row": 38,
        "width": 7
       },
       "report_default": {
        "hidden": false
       }
      }
     }
    }
   },
   "outputs": [],
   "source": [
    "xr_dataset.to(gv.LineContours, ['longitude', 'latitude']) * gf.coastline"
   ]
  },
  {
   "cell_type": "markdown",
   "metadata": {
    "extensions": {
     "jupyter_dashboards": {
      "version": 1,
      "views": {
       "grid_default": {
        "col": 8,
        "height": 3,
        "hidden": false,
        "row": 36,
        "width": 4
       },
       "report_default": {
        "hidden": false
       }
      }
     }
    }
   },
   "source": [
    "\n",
    "## ...or all together"
   ]
  },
  {
   "cell_type": "markdown",
   "metadata": {},
   "source": [
    "Instead of converting the entire cube to one dataset, we could choose to slice it into a list of datasets."
   ]
  },
  {
   "cell_type": "code",
   "execution_count": null,
   "metadata": {
    "collapsed": false,
    "extensions": {
     "jupyter_dashboards": {
      "version": 1,
      "views": {
       "grid_default": {
        "col": 7,
        "height": 12,
        "hidden": true,
        "row": 39,
        "width": 5
       },
       "report_default": {
        "hidden": false
       }
      }
     }
    }
   },
   "outputs": [],
   "source": [
    "members_dataset = [gv.Dataset(c, crs=crs.PlateCarree(), \n",
    "                        kdims=['longitude','latitude'],\n",
    "                        vdims=['relative_humidity']) for c in cube.slices_over('realization')]\n",
    "contours = [c.to(gv.LineContours,\n",
    "                        kdims=['longitude','latitude'],\n",
    "                        vdims=['relative_humidity']) for c in members_dataset]"
   ]
  },
  {
   "cell_type": "markdown",
   "metadata": {},
   "source": [
    "Addition has been overloaded to display plots side by side."
   ]
  },
  {
   "cell_type": "code",
   "execution_count": null,
   "metadata": {
    "collapsed": false,
    "extensions": {
     "jupyter_dashboards": {
      "version": 1,
      "views": {
       "grid_default": {
        "col": 7,
        "height": 4,
        "hidden": true,
        "row": 39,
        "width": 4
       },
       "report_default": {}
      }
     }
    }
   },
   "outputs": [],
   "source": [
    "contours[0] + contours[1] + contours[2]"
   ]
  },
  {
   "cell_type": "markdown",
   "metadata": {},
   "source": [
    "Likewise, multiplication is used to layer plots on top of one another."
   ]
  },
  {
   "cell_type": "code",
   "execution_count": null,
   "metadata": {
    "collapsed": false,
    "extensions": {
     "jupyter_dashboards": {
      "version": 1,
      "views": {
       "grid_default": {
        "col": 6,
        "height": 12,
        "hidden": true,
        "row": 70,
        "width": 4
       },
       "report_default": {}
      }
     }
    }
   },
   "outputs": [],
   "source": [
    "contours[3] * contours[4]"
   ]
  },
  {
   "cell_type": "markdown",
   "metadata": {},
   "source": [
    "Using a bit of functional programming, we can layer all the contours into a kind of spaghetti plot."
   ]
  },
  {
   "cell_type": "code",
   "execution_count": null,
   "metadata": {
    "collapsed": false,
    "extensions": {
     "jupyter_dashboards": {
      "version": 1,
      "views": {
       "grid_default": {
        "col": 8,
        "height": 12,
        "hidden": false,
        "row": 39,
        "width": 4
       },
       "report_default": {}
      }
     }
    }
   },
   "outputs": [],
   "source": [
    "fp.reduce(operator.mul, contours) * gf.coastline"
   ]
  },
  {
   "cell_type": "markdown",
   "metadata": {
    "extensions": {
     "jupyter_dashboards": {
      "version": 1,
      "views": {
       "grid_default": {
        "col": 0,
        "height": 2,
        "hidden": false,
        "row": 51,
        "width": 12
       },
       "report_default": {
        "hidden": false
       }
      }
     }
    }
   },
   "source": [
    "## We can dig down further."
   ]
  },
  {
   "cell_type": "markdown",
   "metadata": {
    "extensions": {
     "jupyter_dashboards": {
      "version": 1,
      "views": {
       "grid_default": {
        "col": 0,
        "height": 4,
        "hidden": false,
        "row": 53,
        "width": 4
       },
       "report_default": {
        "hidden": false
       }
      }
     }
    }
   },
   "source": [
    "## Let's see the spread at each point with a scatter plot"
   ]
  },
  {
   "cell_type": "markdown",
   "metadata": {},
   "source": [
    "We can get an idea of the uncertainty at each point by seeing how well the realizations agree."
   ]
  },
  {
   "cell_type": "code",
   "execution_count": null,
   "metadata": {
    "collapsed": false,
    "extensions": {
     "jupyter_dashboards": {
      "version": 1,
      "views": {
       "grid_default": {
        "col": 4,
        "height": 13,
        "hidden": false,
        "row": 53,
        "width": 8
       },
       "report_default": {
        "hidden": false
       }
      }
     }
    }
   },
   "outputs": [],
   "source": [
    "xr_dataset.to(hv.Scatter, ['realization'], dynamic=True)"
   ]
  },
  {
   "cell_type": "markdown",
   "metadata": {
    "extensions": {
     "jupyter_dashboards": {
      "version": 1,
      "views": {
       "grid_default": {
        "col": 6,
        "height": 4,
        "hidden": false,
        "row": 66,
        "width": 4
       },
       "report_default": {
        "hidden": false
       }
      }
     }
    }
   },
   "source": [
    "## ...and aggregate over each latitude"
   ]
  },
  {
   "cell_type": "markdown",
   "metadata": {},
   "source": [
    "The box plot shows the spread of values across each latitude. This could be more enlightening if we had a time dimension as well as one for realization."
   ]
  },
  {
   "cell_type": "code",
   "execution_count": null,
   "metadata": {
    "collapsed": false,
    "extensions": {
     "jupyter_dashboards": {
      "version": 1,
      "views": {
       "grid_default": {
        "col": 0,
        "height": 14,
        "hidden": false,
        "row": 66,
        "width": 6
       },
       "report_default": {
        "hidden": false
       }
      }
     }
    }
   },
   "outputs": [],
   "source": [
    "%%opts BoxWhisker [xrotation=25 bgcolor='w']\n",
    "xr_dataset.to.box('realization', mdims=['latitude'], dynamic=True)"
   ]
  }
 ],
 "metadata": {
  "anaconda-cloud": {},
  "extensions": {
   "jupyter_dashboards": {
    "activeView": "grid_default",
    "version": 1,
    "views": {
     "grid_default": {
      "cellMargin": 10,
      "defaultCellHeight": 20,
      "maxColumns": 12,
      "name": "grid",
      "type": "grid"
     },
     "report_default": {
      "name": "report",
      "type": "report"
     }
    }
   }
  },
  "kernelspec": {
   "display_name": "Python 3",
   "language": "python",
   "name": "python3"
  },
  "language_info": {
   "codemirror_mode": {
    "name": "ipython",
    "version": 3
   },
   "file_extension": ".py",
   "mimetype": "text/x-python",
   "name": "python",
   "nbconvert_exporter": "python",
   "pygments_lexer": "ipython3",
   "version": "3.5.2"
  }
 },
 "nbformat": 4,
 "nbformat_minor": 1
}
