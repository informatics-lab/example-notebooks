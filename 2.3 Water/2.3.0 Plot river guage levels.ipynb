{
 "cells": [
  {
   "cell_type": "markdown",
   "metadata": {},
   "source": [
    "# Plot gauge levels for the River Exe at Exe Bridges"
   ]
  },
  {
   "cell_type": "markdown",
   "metadata": {},
   "source": [
    "Access the data using the `intake` cataloge and read the gauge data into a \"lazy\" (dask) data frame."
   ]
  },
  {
   "cell_type": "code",
   "execution_count": 1,
   "metadata": {},
   "outputs": [
    {
     "name": "stderr",
     "output_type": "stream",
     "text": [
      "/opt/conda/lib/python3.6/site-packages/intake/source/discovery.py:39: UserWarning: Plugin name collision for \"netcdf\" from\n",
      "    /opt/conda/lib/python3.6/site-packages/intake_iris/netcdf.py\n",
      "and\n",
      "    /opt/conda/lib/python3.6/site-packages/intake_xarray/netcdf.py\n",
      "Keeping plugin from first location.\n",
      "  % (plugin_name, orig_path, new_path))\n"
     ]
    }
   ],
   "source": [
    "import intake\n",
    "gauge_archive = intake.cat.ea_realtime_flood_monitoring_archive.to_dask()"
   ]
  },
  {
   "cell_type": "markdown",
   "metadata": {},
   "source": [
    "Start up a compute cluster. This will allow us to paralise the computation."
   ]
  },
  {
   "cell_type": "code",
   "execution_count": 2,
   "metadata": {},
   "outputs": [
    {
     "data": {
      "application/vnd.jupyter.widget-view+json": {
       "model_id": "59df9cb5ab1846048c1b6e0f2449925b",
       "version_major": 2,
       "version_minor": 0
      },
      "text/plain": [
       "VBox(children=(HTML(value='<h2>KubeCluster</h2>'), HBox(children=(HTML(value='\\n<div>\\n  <style scoped>\\n    .…"
      ]
     },
     "metadata": {},
     "output_type": "display_data"
    }
   ],
   "source": [
    "from dask import delayed, bag as db\n",
    "import pandas as pd\n",
    "import distributed\n",
    "from dask_kubernetes import KubeCluster\n",
    "cluster = KubeCluster()\n",
    "cluster.adapt(minimum=1, maximum=100)\n",
    "client = distributed.Client(cluster)\n",
    "cluster"
   ]
  },
  {
   "cell_type": "markdown",
   "metadata": {},
   "source": [
    "Take a look at small amount of our data"
   ]
  },
  {
   "cell_type": "code",
   "execution_count": 3,
   "metadata": {},
   "outputs": [
    {
     "data": {
      "text/html": [
       "<div>\n",
       "<style scoped>\n",
       "    .dataframe tbody tr th:only-of-type {\n",
       "        vertical-align: middle;\n",
       "    }\n",
       "\n",
       "    .dataframe tbody tr th {\n",
       "        vertical-align: top;\n",
       "    }\n",
       "\n",
       "    .dataframe thead th {\n",
       "        text-align: right;\n",
       "    }\n",
       "</style>\n",
       "<table border=\"1\" class=\"dataframe\">\n",
       "  <thead>\n",
       "    <tr style=\"text-align: right;\">\n",
       "      <th></th>\n",
       "      <th>dateTime</th>\n",
       "      <th>date</th>\n",
       "      <th>measure</th>\n",
       "      <th>station</th>\n",
       "      <th>label</th>\n",
       "      <th>stationReference</th>\n",
       "      <th>parameter</th>\n",
       "      <th>qualifier</th>\n",
       "      <th>datumType</th>\n",
       "      <th>period</th>\n",
       "      <th>unitName</th>\n",
       "      <th>valueType</th>\n",
       "      <th>value</th>\n",
       "    </tr>\n",
       "  </thead>\n",
       "  <tbody>\n",
       "    <tr>\n",
       "      <th>0</th>\n",
       "      <td>2017-10-07T00:00:00Z</td>\n",
       "      <td>2017-10-07</td>\n",
       "      <td>http://environment.data.gov.uk/flood-monitorin...</td>\n",
       "      <td>http://environment.data.gov.uk/flood-monitorin...</td>\n",
       "      <td>LEIGH PS</td>\n",
       "      <td>E660</td>\n",
       "      <td>level</td>\n",
       "      <td>Stage</td>\n",
       "      <td>http://environment.data.gov.uk/flood-monitorin...</td>\n",
       "      <td>900.0</td>\n",
       "      <td>mAOD</td>\n",
       "      <td>instantaneous</td>\n",
       "      <td>24.538</td>\n",
       "    </tr>\n",
       "    <tr>\n",
       "      <th>1</th>\n",
       "      <td>2017-10-07T00:00:00Z</td>\n",
       "      <td>2017-10-07</td>\n",
       "      <td>http://environment.data.gov.uk/flood-monitorin...</td>\n",
       "      <td>http://environment.data.gov.uk/flood-monitorin...</td>\n",
       "      <td>Hampstead Suburb</td>\n",
       "      <td>3815TH</td>\n",
       "      <td>level</td>\n",
       "      <td>Stage</td>\n",
       "      <td>http://environment.data.gov.uk/flood-monitorin...</td>\n",
       "      <td>900.0</td>\n",
       "      <td>mASD</td>\n",
       "      <td>instantaneous</td>\n",
       "      <td>0.819</td>\n",
       "    </tr>\n",
       "    <tr>\n",
       "      <th>2</th>\n",
       "      <td>2017-10-07T00:00:00Z</td>\n",
       "      <td>2017-10-07</td>\n",
       "      <td>http://environment.data.gov.uk/flood-monitorin...</td>\n",
       "      <td>http://environment.data.gov.uk/flood-monitorin...</td>\n",
       "      <td>Farnham</td>\n",
       "      <td>3020TH</td>\n",
       "      <td>level</td>\n",
       "      <td>Downstream Stage</td>\n",
       "      <td>http://environment.data.gov.uk/flood-monitorin...</td>\n",
       "      <td>900.0</td>\n",
       "      <td>mASD</td>\n",
       "      <td>instantaneous</td>\n",
       "      <td>-0.331</td>\n",
       "    </tr>\n",
       "    <tr>\n",
       "      <th>3</th>\n",
       "      <td>2017-10-07T00:00:00Z</td>\n",
       "      <td>2017-10-07</td>\n",
       "      <td>http://environment.data.gov.uk/flood-monitorin...</td>\n",
       "      <td>http://environment.data.gov.uk/flood-monitorin...</td>\n",
       "      <td>Lower Nazeing</td>\n",
       "      <td>5313TH</td>\n",
       "      <td>level</td>\n",
       "      <td>Stage</td>\n",
       "      <td>http://environment.data.gov.uk/flood-monitorin...</td>\n",
       "      <td>900.0</td>\n",
       "      <td>mASD</td>\n",
       "      <td>instantaneous</td>\n",
       "      <td>1.028</td>\n",
       "    </tr>\n",
       "    <tr>\n",
       "      <th>4</th>\n",
       "      <td>2017-10-07T00:00:00Z</td>\n",
       "      <td>2017-10-07</td>\n",
       "      <td>http://environment.data.gov.uk/flood-monitorin...</td>\n",
       "      <td>http://environment.data.gov.uk/flood-monitorin...</td>\n",
       "      <td>WESTERHAM GS</td>\n",
       "      <td>E15230</td>\n",
       "      <td>level</td>\n",
       "      <td>Stage</td>\n",
       "      <td>http://environment.data.gov.uk/flood-monitorin...</td>\n",
       "      <td>900.0</td>\n",
       "      <td>mAOD</td>\n",
       "      <td>instantaneous</td>\n",
       "      <td>102.777</td>\n",
       "    </tr>\n",
       "  </tbody>\n",
       "</table>\n",
       "</div>"
      ],
      "text/plain": [
       "               dateTime        date  \\\n",
       "0  2017-10-07T00:00:00Z  2017-10-07   \n",
       "1  2017-10-07T00:00:00Z  2017-10-07   \n",
       "2  2017-10-07T00:00:00Z  2017-10-07   \n",
       "3  2017-10-07T00:00:00Z  2017-10-07   \n",
       "4  2017-10-07T00:00:00Z  2017-10-07   \n",
       "\n",
       "                                             measure  \\\n",
       "0  http://environment.data.gov.uk/flood-monitorin...   \n",
       "1  http://environment.data.gov.uk/flood-monitorin...   \n",
       "2  http://environment.data.gov.uk/flood-monitorin...   \n",
       "3  http://environment.data.gov.uk/flood-monitorin...   \n",
       "4  http://environment.data.gov.uk/flood-monitorin...   \n",
       "\n",
       "                                             station             label  \\\n",
       "0  http://environment.data.gov.uk/flood-monitorin...          LEIGH PS   \n",
       "1  http://environment.data.gov.uk/flood-monitorin...  Hampstead Suburb   \n",
       "2  http://environment.data.gov.uk/flood-monitorin...           Farnham   \n",
       "3  http://environment.data.gov.uk/flood-monitorin...     Lower Nazeing   \n",
       "4  http://environment.data.gov.uk/flood-monitorin...      WESTERHAM GS   \n",
       "\n",
       "  stationReference parameter         qualifier  \\\n",
       "0             E660     level             Stage   \n",
       "1           3815TH     level             Stage   \n",
       "2           3020TH     level  Downstream Stage   \n",
       "3           5313TH     level             Stage   \n",
       "4           E15230     level             Stage   \n",
       "\n",
       "                                           datumType  period unitName  \\\n",
       "0  http://environment.data.gov.uk/flood-monitorin...   900.0     mAOD   \n",
       "1  http://environment.data.gov.uk/flood-monitorin...   900.0     mASD   \n",
       "2  http://environment.data.gov.uk/flood-monitorin...   900.0     mASD   \n",
       "3  http://environment.data.gov.uk/flood-monitorin...   900.0     mASD   \n",
       "4  http://environment.data.gov.uk/flood-monitorin...   900.0     mAOD   \n",
       "\n",
       "       valueType    value  \n",
       "0  instantaneous   24.538  \n",
       "1  instantaneous    0.819  \n",
       "2  instantaneous   -0.331  \n",
       "3  instantaneous    1.028  \n",
       "4  instantaneous  102.777  "
      ]
     },
     "execution_count": 3,
     "metadata": {},
     "output_type": "execute_result"
    }
   ],
   "source": [
    "gauge_archive.head()"
   ]
  },
  {
   "cell_type": "markdown",
   "metadata": {},
   "source": [
    "Filter to where `label` is `EXEBRIDGE` and look at sample"
   ]
  },
  {
   "cell_type": "code",
   "execution_count": 4,
   "metadata": {},
   "outputs": [
    {
     "data": {
      "text/html": [
       "<div>\n",
       "<style scoped>\n",
       "    .dataframe tbody tr th:only-of-type {\n",
       "        vertical-align: middle;\n",
       "    }\n",
       "\n",
       "    .dataframe tbody tr th {\n",
       "        vertical-align: top;\n",
       "    }\n",
       "\n",
       "    .dataframe thead th {\n",
       "        text-align: right;\n",
       "    }\n",
       "</style>\n",
       "<table border=\"1\" class=\"dataframe\">\n",
       "  <thead>\n",
       "    <tr style=\"text-align: right;\">\n",
       "      <th></th>\n",
       "      <th>dateTime</th>\n",
       "      <th>date</th>\n",
       "      <th>measure</th>\n",
       "      <th>station</th>\n",
       "      <th>label</th>\n",
       "      <th>stationReference</th>\n",
       "      <th>parameter</th>\n",
       "      <th>qualifier</th>\n",
       "      <th>datumType</th>\n",
       "      <th>period</th>\n",
       "      <th>unitName</th>\n",
       "      <th>valueType</th>\n",
       "      <th>value</th>\n",
       "    </tr>\n",
       "  </thead>\n",
       "  <tbody>\n",
       "    <tr>\n",
       "      <th>7207</th>\n",
       "      <td>2017-10-07T04:00:00Z</td>\n",
       "      <td>2017-10-07</td>\n",
       "      <td>http://environment.data.gov.uk/flood-monitorin...</td>\n",
       "      <td>http://environment.data.gov.uk/flood-monitorin...</td>\n",
       "      <td>EXEBRIDGE</td>\n",
       "      <td>45125</td>\n",
       "      <td>level</td>\n",
       "      <td>Stage</td>\n",
       "      <td>NaN</td>\n",
       "      <td>900.0</td>\n",
       "      <td>m</td>\n",
       "      <td>instantaneous</td>\n",
       "      <td>0.286</td>\n",
       "    </tr>\n",
       "    <tr>\n",
       "      <th>9551</th>\n",
       "      <td>2017-10-07T03:30:00Z</td>\n",
       "      <td>2017-10-07</td>\n",
       "      <td>http://environment.data.gov.uk/flood-monitorin...</td>\n",
       "      <td>http://environment.data.gov.uk/flood-monitorin...</td>\n",
       "      <td>EXEBRIDGE</td>\n",
       "      <td>45125</td>\n",
       "      <td>level</td>\n",
       "      <td>Stage</td>\n",
       "      <td>NaN</td>\n",
       "      <td>900.0</td>\n",
       "      <td>m</td>\n",
       "      <td>instantaneous</td>\n",
       "      <td>0.286</td>\n",
       "    </tr>\n",
       "    <tr>\n",
       "      <th>9895</th>\n",
       "      <td>2017-10-07T01:15:00Z</td>\n",
       "      <td>2017-10-07</td>\n",
       "      <td>http://environment.data.gov.uk/flood-monitorin...</td>\n",
       "      <td>http://environment.data.gov.uk/flood-monitorin...</td>\n",
       "      <td>EXEBRIDGE</td>\n",
       "      <td>45125</td>\n",
       "      <td>level</td>\n",
       "      <td>Stage</td>\n",
       "      <td>NaN</td>\n",
       "      <td>900.0</td>\n",
       "      <td>m</td>\n",
       "      <td>instantaneous</td>\n",
       "      <td>0.286</td>\n",
       "    </tr>\n",
       "    <tr>\n",
       "      <th>13715</th>\n",
       "      <td>2017-10-07T00:15:00Z</td>\n",
       "      <td>2017-10-07</td>\n",
       "      <td>http://environment.data.gov.uk/flood-monitorin...</td>\n",
       "      <td>http://environment.data.gov.uk/flood-monitorin...</td>\n",
       "      <td>EXEBRIDGE</td>\n",
       "      <td>45125</td>\n",
       "      <td>level</td>\n",
       "      <td>Stage</td>\n",
       "      <td>NaN</td>\n",
       "      <td>900.0</td>\n",
       "      <td>m</td>\n",
       "      <td>instantaneous</td>\n",
       "      <td>0.285</td>\n",
       "    </tr>\n",
       "    <tr>\n",
       "      <th>13790</th>\n",
       "      <td>2017-10-07T02:30:00Z</td>\n",
       "      <td>2017-10-07</td>\n",
       "      <td>http://environment.data.gov.uk/flood-monitorin...</td>\n",
       "      <td>http://environment.data.gov.uk/flood-monitorin...</td>\n",
       "      <td>EXEBRIDGE</td>\n",
       "      <td>45125</td>\n",
       "      <td>level</td>\n",
       "      <td>Stage</td>\n",
       "      <td>NaN</td>\n",
       "      <td>900.0</td>\n",
       "      <td>m</td>\n",
       "      <td>instantaneous</td>\n",
       "      <td>0.288</td>\n",
       "    </tr>\n",
       "  </tbody>\n",
       "</table>\n",
       "</div>"
      ],
      "text/plain": [
       "                   dateTime        date  \\\n",
       "7207   2017-10-07T04:00:00Z  2017-10-07   \n",
       "9551   2017-10-07T03:30:00Z  2017-10-07   \n",
       "9895   2017-10-07T01:15:00Z  2017-10-07   \n",
       "13715  2017-10-07T00:15:00Z  2017-10-07   \n",
       "13790  2017-10-07T02:30:00Z  2017-10-07   \n",
       "\n",
       "                                                 measure  \\\n",
       "7207   http://environment.data.gov.uk/flood-monitorin...   \n",
       "9551   http://environment.data.gov.uk/flood-monitorin...   \n",
       "9895   http://environment.data.gov.uk/flood-monitorin...   \n",
       "13715  http://environment.data.gov.uk/flood-monitorin...   \n",
       "13790  http://environment.data.gov.uk/flood-monitorin...   \n",
       "\n",
       "                                                 station      label  \\\n",
       "7207   http://environment.data.gov.uk/flood-monitorin...  EXEBRIDGE   \n",
       "9551   http://environment.data.gov.uk/flood-monitorin...  EXEBRIDGE   \n",
       "9895   http://environment.data.gov.uk/flood-monitorin...  EXEBRIDGE   \n",
       "13715  http://environment.data.gov.uk/flood-monitorin...  EXEBRIDGE   \n",
       "13790  http://environment.data.gov.uk/flood-monitorin...  EXEBRIDGE   \n",
       "\n",
       "      stationReference parameter qualifier datumType  period unitName  \\\n",
       "7207             45125     level     Stage       NaN   900.0        m   \n",
       "9551             45125     level     Stage       NaN   900.0        m   \n",
       "9895             45125     level     Stage       NaN   900.0        m   \n",
       "13715            45125     level     Stage       NaN   900.0        m   \n",
       "13790            45125     level     Stage       NaN   900.0        m   \n",
       "\n",
       "           valueType  value  \n",
       "7207   instantaneous  0.286  \n",
       "9551   instantaneous  0.286  \n",
       "9895   instantaneous  0.286  \n",
       "13715  instantaneous  0.285  \n",
       "13790  instantaneous  0.288  "
      ]
     },
     "execution_count": 4,
     "metadata": {},
     "output_type": "execute_result"
    }
   ],
   "source": [
    "exe_bridges = gauge_archive[gauge_archive.label == 'EXEBRIDGE']\n",
    "exe_bridges.head(5,5,5)"
   ]
  },
  {
   "cell_type": "markdown",
   "metadata": {},
   "source": [
    "Create an in memmory version of this reduced data set."
   ]
  },
  {
   "cell_type": "code",
   "execution_count": 5,
   "metadata": {},
   "outputs": [
    {
     "data": {
      "application/vnd.jupyter.widget-view+json": {
       "model_id": "d498ed01a5d24f4da01c57d7fb49f1df",
       "version_major": 2,
       "version_minor": 0
      },
      "text/plain": [
       "VBox()"
      ]
     },
     "metadata": {},
     "output_type": "display_data"
    }
   ],
   "source": [
    "exe_bridges_future = exe_bridges.persist()\n",
    "display(distributed.progress(exe_bridges_future))\n",
    "exe_bridges_in_memory = exe_bridges_future.compute()"
   ]
  },
  {
   "cell_type": "markdown",
   "metadata": {},
   "source": [
    "Once the above is complete we can sort, convert `value` to an float and then plot"
   ]
  },
  {
   "cell_type": "code",
   "execution_count": 6,
   "metadata": {},
   "outputs": [
    {
     "data": {
      "text/plain": [
       "<matplotlib.axes._subplots.AxesSubplot at 0x7f74301358d0>"
      ]
     },
     "execution_count": 6,
     "metadata": {},
     "output_type": "execute_result"
    },
    {
     "data": {
      "image/png": "[encoded data removed]",
      "text/plain": [
       "<Figure size 432x288 with 1 Axes>"
      ]
     },
     "metadata": {},
     "output_type": "display_data"
    }
   ],
   "source": [
    "%matplotlib inline  \n",
    "exe_bridges_in_memory.sort_values(by='dateTime')\n",
    "exe_bridges_in_memory.value = exe_bridges_in_memory.value.astype('float', copy=False)\n",
    "exe_bridges_in_memory.plot.line(x=\"dateTime\", y=\"value\")"
   ]
  }
 ],
 "metadata": {
  "kernelspec": {
   "display_name": "Python [default]",
   "language": "python",
   "name": "python3"
  },
  "language_info": {
   "codemirror_mode": {
    "name": "ipython",
    "version": 3
   },
   "file_extension": ".py",
   "mimetype": "text/x-python",
   "name": "python",
   "nbconvert_exporter": "python",
   "pygments_lexer": "ipython3",
   "version": "3.6.3"
  }
 },
 "nbformat": 4,
 "nbformat_minor": 2
}
