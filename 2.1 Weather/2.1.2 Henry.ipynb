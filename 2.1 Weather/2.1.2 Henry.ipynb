{
 "cells": [
  {
   "cell_type": "markdown",
   "metadata": {},
   "source": [
    "# Hi, I'm Henry\n",
    "\n",
    "### Chatbot assistant demonstration\n",
    "\n",
    "The Henry Chatbot allows you to easily find and access Met Office data in a Jupyter Notebook."
   ]
  },
  {
   "cell_type": "code",
   "execution_count": null,
   "metadata": {},
   "outputs": [],
   "source": [
    "# Open Henry by clicking on the orange speech bubble"
   ]
  },
  {
   "cell_type": "code",
   "execution_count": null,
   "metadata": {},
   "outputs": [],
   "source": [
    "# Ask Henry for some data"
   ]
  },
  {
   "cell_type": "code",
   "execution_count": 2,
   "metadata": {},
   "outputs": [
    {
     "data": {
      "text/plain": [
       "[<iris 'Cube' of wind_from_direction / (degrees) (forecast_period: 77; forecast_reference_time: 168; pressure: 30; projection_y_coordinate: 970; projection_x_coordinate: 1042)>,\n",
       " <iris 'Cube' of wind_speed / (m s-1) (forecast_period: 77; forecast_reference_time: 168; pressure: 30; projection_y_coordinate: 970; projection_x_coordinate: 1042)>]"
      ]
     },
     "execution_count": 2,
     "metadata": {},
     "output_type": "execute_result"
    }
   ],
   "source": [
    "import intake\n",
    "wind_at_pressure = [\n",
    "    intake.cat.mo_aws_earth.ukv.wind_from_direction_at_pressure.read(),\n",
    "    intake.cat.mo_aws_earth.ukv.wind_speed_at_pressure.read()\n",
    "]\n",
    "wind_at_pressure"
   ]
  },
  {
   "cell_type": "markdown",
   "metadata": {},
   "source": [
    "Henry can also help you start a computing cluster for large scale data analysis"
   ]
  },
  {
   "cell_type": "code",
   "execution_count": null,
   "metadata": {},
   "outputs": [],
   "source": [
    "# Ask Henry for a compute cluster"
   ]
  },
  {
   "cell_type": "code",
   "execution_count": 3,
   "metadata": {},
   "outputs": [
    {
     "data": {
      "application/vnd.jupyter.widget-view+json": {
       "model_id": "d0515d30a0264ebcb09fd7d7ff81c7aa",
       "version_major": 2,
       "version_minor": 0
      },
      "text/plain": [
       "VBox(children=(HTML(value='<h2>KubeCluster</h2>'), HBox(children=(HTML(value='\\n<div>\\n  <style scoped>\\n    .…"
      ]
     },
     "metadata": {},
     "output_type": "display_data"
    }
   ],
   "source": [
    "import dask_kubernetes\n",
    "import distributed\n",
    "cluster = dask_kubernetes.KubeCluster()\n",
    "cluster.adapt()\n",
    "client = distributed.Client(cluster)\n",
    "cluster"
   ]
  },
  {
   "cell_type": "markdown",
   "metadata": {},
   "source": [
    "Henry is a built in extension that can be shown and hidden when needed"
   ]
  },
  {
   "cell_type": "code",
   "execution_count": null,
   "metadata": {},
   "outputs": [],
   "source": [
    "# Hide Henry by clicking on the tab"
   ]
  }
 ],
 "metadata": {
  "kernelspec": {
   "display_name": "Python 3",
   "language": "python",
   "name": "python3"
  },
  "language_info": {
   "codemirror_mode": {
    "name": "ipython",
    "version": 3
   },
   "file_extension": ".py",
   "mimetype": "text/x-python",
   "name": "python",
   "nbconvert_exporter": "python",
   "pygments_lexer": "ipython3",
   "version": "3.6.7"
  }
 },
 "nbformat": 4,
 "nbformat_minor": 4
}
