{
 "cells": [
  {
   "cell_type": "code",
   "execution_count": null,
   "metadata": {},
   "outputs": [],
   "source": [
    "import intake\n",
    "import iris\n",
    "import geoviews as gv\n",
    "import cartopy.crs as ccrs\n",
    "import cartopy.feature as cf\n",
    "\n",
    "from holoviews.operation.datashader import regrid\n",
    "\n",
    "gv.extension('bokeh')"
   ]
  },
  {
   "cell_type": "markdown",
   "metadata": {},
   "source": [
    "Guidence on wind shear for aviation\n",
    "===================================\n",
    "We're expecting high shear conditions over the UK this week. This analysis will identify risk regions and issue shear warning accordingly."
   ]
  },
  {
   "cell_type": "markdown",
   "metadata": {},
   "source": [
    "### Calculate shear in the Mogreps G runs\n",
    "I'm going to pull in data from the Met Office global ensemble forcast, Mogreps G"
   ]
  },
  {
   "cell_type": "code",
   "execution_count": null,
   "metadata": {},
   "outputs": [],
   "source": [
    "intake.gui"
   ]
  },
  {
   "cell_type": "markdown",
   "metadata": {},
   "source": [
    "I'm going to calculate shear on pressure levels for Mogreps G."
   ]
  },
  {
   "cell_type": "code",
   "execution_count": null,
   "metadata": {},
   "outputs": [],
   "source": [
    "from dask_kubernetes import KubeCluster\n",
    "import distributed\n",
    "cluster = KubeCluster()\n",
    "cluster.adapt(minimum=1, maximum=30)\n",
    "client = distributed.Client(cluster)\n",
    "cluster"
   ]
  },
  {
   "cell_type": "code",
   "execution_count": null,
   "metadata": {},
   "outputs": [],
   "source": [
    "direction = intake.cat.mo_aws_earth.mogreps_g.wind_from_direction_at_pressure.read()\n",
    "speed = intake.cat.mo_aws_earth.mogreps_g.wind_speed_at_pressure.read()"
   ]
  },
  {
   "cell_type": "code",
   "execution_count": null,
   "metadata": {},
   "outputs": [],
   "source": [
    "from opscentretools import sheartools\n",
    "shear = sheartools.calculate_shear(speed, direction)\n",
    "shear"
   ]
  },
  {
   "cell_type": "code",
   "execution_count": null,
   "metadata": {},
   "outputs": [],
   "source": [
    "from jade_utils.iris_tools import estimate_cube_size\n",
    "datasize = estimate_cube_size(shear)\n",
    "datasize"
   ]
  },
  {
   "cell_type": "markdown",
   "metadata": {},
   "source": [
    "### Exploratory plot of windshear\n",
    "\n",
    "We need to investigate the windshear field to get a feel for it"
   ]
  },
  {
   "cell_type": "markdown",
   "metadata": {},
   "source": [
    "First we'll create a plottable object from the data field."
   ]
  },
  {
   "cell_type": "code",
   "execution_count": null,
   "metadata": {},
   "outputs": [],
   "source": [
    "from opscentretools import plotting\n",
    "# width = 1000\n",
    "# height = 600\n",
    "this_cube = shear[0, 0, 0, ::10]\n",
    "shear_plot = plotting.interactive_plot(this_cube, coastlines=True)"
   ]
  },
  {
   "cell_type": "markdown",
   "metadata": {},
   "source": [
    "Next we get the weather warning tool"
   ]
  },
  {
   "cell_type": "code",
   "execution_count": null,
   "metadata": {},
   "outputs": [],
   "source": [
    "from opscentretools import annotable\n",
    "orange_warning_pen, orange_warning = annotable.warning(\"orange\")"
   ]
  },
  {
   "cell_type": "markdown",
   "metadata": {},
   "source": [
    "And plot them together"
   ]
  },
  {
   "cell_type": "code",
   "execution_count": null,
   "metadata": {},
   "outputs": [],
   "source": [
    "shear_interactive = shear_plot * orange_warning"
   ]
  },
  {
   "cell_type": "markdown",
   "metadata": {},
   "source": [
    "### Consult with the chief\n",
    "I'd like to highlight areas in my advice, but I'd like to check with the cheif to see if they're on the same page."
   ]
  },
  {
   "cell_type": "code",
   "execution_count": null,
   "metadata": {},
   "outputs": [],
   "source": [
    "annotable.make(shear_interactive.select(pressure=96350), websocket_origin='pangeo-dev.informaticslab.co.uk')"
   ]
  },
  {
   "cell_type": "code",
   "execution_count": null,
   "metadata": {},
   "outputs": [],
   "source": [
    "orange_warning_pen.element.data"
   ]
  },
  {
   "cell_type": "markdown",
   "metadata": {},
   "source": [
    "### Check the average wind shear profile"
   ]
  },
  {
   "cell_type": "code",
   "execution_count": null,
   "metadata": {},
   "outputs": [],
   "source": [
    "max_wind_shear = shear.collapsed([\"forecast_period\", \"forecast_reference_time\", \"realization\", \"latitude\", \"longitude\"], iris.analysis.MAX)\n",
    "max_wind_shear"
   ]
  },
  {
   "cell_type": "markdown",
   "metadata": {},
   "source": [
    "### Calculate proportion of MOGREPS-G run that exceeds 15 m/s and 25 m/s shear limits for aviation"
   ]
  },
  {
   "cell_type": "code",
   "execution_count": null,
   "metadata": {},
   "outputs": [],
   "source": [
    "from opscentretools import sheartools\n",
    "prob_shear_15 = sheartools.calculate_ensemble_exceedence(shear, threshold=15)\n",
    "prob_shear_25 = sheartools.calculate_ensemble_exceedence(shear, threshold=25)"
   ]
  },
  {
   "cell_type": "code",
   "execution_count": null,
   "metadata": {},
   "outputs": [],
   "source": [
    "from opscentretools import plotting\n",
    "speed_plot = plotting.interactive_plot(speed[0], coastlines=True)\n",
    "# speed_plot"
   ]
  },
  {
   "cell_type": "code",
   "execution_count": null,
   "metadata": {},
   "outputs": [],
   "source": [
    "fifteen_interactive = plotting.interactive_plot(prob_shear_15, cmap='summer', coastlines=True)\n",
    "# fifteen_interactive"
   ]
  },
  {
   "cell_type": "code",
   "execution_count": null,
   "metadata": {},
   "outputs": [],
   "source": [
    "twentyfive_interactive = plotting.interactive_plot(prob_shear_25, cmap='summer', coastlines=True)\n",
    "# twentyfive_interactive"
   ]
  },
  {
   "cell_type": "markdown",
   "metadata": {},
   "source": [
    "## Interactive dashboard of plots\n",
    "\n",
    "We have thresholds for wind shear at `15 m/s` and `25 m/s` want to compare the pressure levels at which these limits are exceeded."
   ]
  },
  {
   "cell_type": "code",
   "execution_count": null,
   "metadata": {},
   "outputs": [],
   "source": [
    "app = plotting.dashboard_column([fifteen_interactive, twentyfive_interactive], shared_slider=True)\n",
    "app"
   ]
  },
  {
   "cell_type": "code",
   "execution_count": null,
   "metadata": {},
   "outputs": [],
   "source": [
    "# Show is currently blocked by this browser\n",
    "app.show(websocket_origin='pangeo-dev.informaticslab.co.uk', port=9999)"
   ]
  },
  {
   "cell_type": "markdown",
   "metadata": {},
   "source": [
    "## View shear field in 3D"
   ]
  },
  {
   "cell_type": "code",
   "execution_count": null,
   "metadata": {},
   "outputs": [],
   "source": [
    "import itkwidgets as itkw\n",
    "itkw.view(shear.data[0].copy(), cmap='X Ray', shadow=False)"
   ]
  }
 ],
 "metadata": {
  "kernelspec": {
   "display_name": "Python 3",
   "language": "python",
   "name": "python3"
  },
  "language_info": {
   "codemirror_mode": {
    "name": "ipython",
    "version": 3
   },
   "file_extension": ".py",
   "mimetype": "text/x-python",
   "name": "python",
   "nbconvert_exporter": "python",
   "pygments_lexer": "ipython3",
   "version": "3.6.7"
  }
 },
 "nbformat": 4,
 "nbformat_minor": 2
}
