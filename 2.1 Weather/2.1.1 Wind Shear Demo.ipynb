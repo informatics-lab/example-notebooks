{
 "cells": [
  {
   "cell_type": "markdown",
   "metadata": {},
   "source": [
    "# Guidance on wind shear for aviation\n",
    "### This analysis will identify risk regions and issue shear warning accordingly.\n",
    "\n",
    "Username: \n",
    "\n",
    "Date: "
   ]
  },
  {
   "cell_type": "code",
   "execution_count": null,
   "metadata": {},
   "outputs": [],
   "source": [
    "# Pre-loading Python libraries needed for this notebook\n",
    "\n",
    "import intake\n",
    "import geoviews as gv\n",
    "\n",
    "from sidecar import Sidecar\n",
    "from holoviews.operation.datashader import regrid\n",
    "from geoviews.feature import coastline as coastlines\n",
    "\n",
    "gv.extension('bokeh', logo=False)\n",
    "from geoviews import opts\n",
    "opts.defaults(opts.Polygons(line_color='orange', line_width=3, fill_color='orange', fill_alpha=0.2))\n",
    "\n",
    "import sys\n",
    "# Suppress warnings\n",
    "if not sys.warnoptions:\n",
    "    import warnings\n",
    "    warnings.simplefilter(\"ignore\")"
   ]
  },
  {
   "cell_type": "markdown",
   "metadata": {},
   "source": [
    "### Calculate wind shear from the Mogreps-G model runs\n",
    "Firstly, I'm going to find the relevant data from the Met Office global ensemble forecast, Mogreps-G."
   ]
  },
  {
   "cell_type": "code",
   "execution_count": null,
   "metadata": {},
   "outputs": [],
   "source": [
    "intake.gui"
   ]
  },
  {
   "cell_type": "markdown",
   "metadata": {},
   "source": [
    "The catalogue above shows the data available from Mogreps-G. \n",
    "<br>I need wind speed and direction to calculate shear, and since I am working with an aviation customer vertical pressure levels are most useful."
   ]
  },
  {
   "cell_type": "code",
   "execution_count": null,
   "metadata": {},
   "outputs": [],
   "source": [
    "direction = intake.cat.mo_aws_earth.mogreps_g.wind_from_direction_at_pressure.read()\n",
    "speed = intake.cat.mo_aws_earth.mogreps_g.wind_speed_at_pressure.read()"
   ]
  },
  {
   "cell_type": "markdown",
   "metadata": {},
   "source": [
    "I can calculate the shear between consecutive pressure levels using the analysis tools created by one of my colleagues. \n",
    "<br>No actual processing of the data will occur until I need to make my plots."
   ]
  },
  {
   "cell_type": "code",
   "execution_count": null,
   "metadata": {},
   "outputs": [],
   "source": [
    "from opscentretools import sheartools\n",
    "shear = sheartools.calculate_shear(speed, direction)\n",
    "shear"
   ]
  },
  {
   "cell_type": "markdown",
   "metadata": {},
   "source": [
    "This is a preview of the whole processed dataset, including every forecast reference time and period from the last seven days of model runs.\n",
    "\n",
    "This represents multiple terrabytes of data."
   ]
  },
  {
   "cell_type": "code",
   "execution_count": null,
   "metadata": {},
   "outputs": [],
   "source": [
    "from opscentretools import datatools \n",
    "datasize = datatools.estimate_cube_size(shear)\n",
    "datasize"
   ]
  },
  {
   "cell_type": "markdown",
   "metadata": {},
   "source": [
    "### Plot of windshear\n",
    "\n",
    "I want to visualise my data to understand what the wind shear looks like."
   ]
  },
  {
   "cell_type": "markdown",
   "metadata": {},
   "source": [
    "First I want to see the field at a single pressure level (98750 Pa) for the latest T+00 forecast."
   ]
  },
  {
   "cell_type": "code",
   "execution_count": null,
   "metadata": {},
   "outputs": [],
   "source": [
    "from opscentretools import plotting\n",
    "latest_T00_P98750 = shear[0, -4, 0, 0]\n",
    "shear_T00_P98750_plot = plotting.interactive_plot(latest_T00_P98750, coastlines=True)"
   ]
  },
  {
   "cell_type": "code",
   "execution_count": null,
   "metadata": {},
   "outputs": [],
   "source": [
    "shear_T00_P98750_plot"
   ]
  },
  {
   "cell_type": "markdown",
   "metadata": {},
   "source": [
    "This plot is useful to see what the wind shear looks like but I would like to compare it at different pressure levels."
   ]
  },
  {
   "cell_type": "code",
   "execution_count": null,
   "metadata": {},
   "outputs": [],
   "source": [
    "latest_T00 = shear[0, -4, 0, 0:15]\n",
    "shear_T00_plot = plotting.interactive_plot(latest_T00, coastlines=True)"
   ]
  },
  {
   "cell_type": "code",
   "execution_count": null,
   "metadata": {},
   "outputs": [],
   "source": [
    "shear_T00_plot"
   ]
  },
  {
   "cell_type": "markdown",
   "metadata": {},
   "source": [
    "## Annotating the plot\n",
    "\n",
    "There appears to be an area of high wind shear in the North Atlantic. I'm going to add a weather warning tool to my plot so I can highlight it."
   ]
  },
  {
   "cell_type": "code",
   "execution_count": null,
   "metadata": {},
   "outputs": [],
   "source": [
    "orange_warning_pen, orange_warning = plotting.warning_tool(\"orange\")"
   ]
  },
  {
   "cell_type": "code",
   "execution_count": null,
   "metadata": {},
   "outputs": [],
   "source": [
    "shear_T00_plot * orange_warning"
   ]
  },
  {
   "cell_type": "markdown",
   "metadata": {},
   "source": [
    "The annotations I make on my plot can be recorded and reused. I want to check what my warning looks like with just a map of coastlines."
   ]
  },
  {
   "cell_type": "code",
   "execution_count": null,
   "metadata": {},
   "outputs": [],
   "source": [
    "wind_shear_warning = orange_warning_pen.element"
   ]
  },
  {
   "cell_type": "code",
   "execution_count": null,
   "metadata": {},
   "outputs": [],
   "source": [
    "with Sidecar():\n",
    "    display(wind_shear_warning * coastlines)"
   ]
  },
  {
   "cell_type": "markdown",
   "metadata": {},
   "source": [
    "### Consult with the chief\n",
    "\n",
    "I would like to check my findings with the Chief Forecaster to make sure they fit with today's forecasting narrative."
   ]
  },
  {
   "cell_type": "code",
   "execution_count": null,
   "metadata": {},
   "outputs": [],
   "source": [
    "wind_shear_for_chief = shear_T00_plot.select(pressure=98750) * orange_warning * wind_shear_warning"
   ]
  },
  {
   "cell_type": "markdown",
   "metadata": {},
   "source": [
    "I can generate a web link that means anyone can my annotated plot from any device.\n",
    "<br>This is the link I will share with the Chief for their feedback."
   ]
  },
  {
   "cell_type": "code",
   "execution_count": null,
   "metadata": {},
   "outputs": [],
   "source": [
    "from opscentretools import annotable\n",
    "annotable.webapp(wind_shear_for_chief, websocket_origin='pangeo-v2.informaticslab.co.uk')"
   ]
  },
  {
   "cell_type": "code",
   "execution_count": null,
   "metadata": {},
   "outputs": [],
   "source": []
  }
 ],
 "metadata": {
  "kernelspec": {
   "display_name": "Python 3",
   "language": "python",
   "name": "python3"
  },
  "language_info": {
   "codemirror_mode": {
    "name": "ipython",
    "version": 3
   },
   "file_extension": ".py",
   "mimetype": "text/x-python",
   "name": "python",
   "nbconvert_exporter": "python",
   "pygments_lexer": "ipython3",
   "version": "3.6.7"
  }
 },
 "nbformat": 4,
 "nbformat_minor": 4
}
