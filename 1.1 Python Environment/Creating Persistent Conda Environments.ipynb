{
 "cells": [
  {
   "cell_type": "markdown",
   "metadata": {},
   "source": [
    "# Creating your own conda environment\n",
    "By default when installing conda packages on Pangeo they are installed into the `root` environment.\n",
    "\n",
    "The downside of this is the environment is part of the docker image and any changes will be lost when stopping and starting your notebook server.\n",
    "\n",
    "This notebook sets up a custom conda environment in your home directory and allows you to persist your installed packages."
   ]
  },
  {
   "cell_type": "markdown",
   "metadata": {},
   "source": [
    "## Create conda environment\n",
    "\n",
    "First we need to create a new conda environment in your home directory which is a clone of the `root` environment."
   ]
  },
  {
   "cell_type": "code",
   "execution_count": null,
   "metadata": {},
   "outputs": [],
   "source": [
    "! conda create --clone root -p ~/.local/share/conda/envs/myenv -m "
   ]
  },
  {
   "cell_type": "markdown",
   "metadata": {},
   "source": [
    "In this command we are creating a new environment. We are specifying that we want to `--clone` the `root` environment. We are telling conda with `-p` to install it in our home directory at `~/.local/share/conda/envs/myenv` and to create that directory if it doesn't exist with `-m`."
   ]
  },
  {
   "cell_type": "markdown",
   "metadata": {},
   "source": [
    "## Install kernel\n",
    "\n",
    "Next we need to create a new Jupyter Kernel which points to your custom conda environment. This allows you to select your custom environment when creating your notebooks."
   ]
  },
  {
   "cell_type": "code",
   "execution_count": null,
   "metadata": {},
   "outputs": [],
   "source": [
    "!! source activate /home/jovyan/.local/share/conda/envs/myenv && \\\n",
    "   python -m ipykernel install --user --name myenv --display-name \"Python (myenv)\""
   ]
  },
  {
   "cell_type": "markdown",
   "metadata": {},
   "source": [
    "We start here by activating our new conda environment. This only works in a `bash` shell hence the double bang `!!`. We are then using `ipykernel` to create a new kernelspec config in your home directory using the conda environment `myenv` with the name `Python (myenv)`."
   ]
  },
  {
   "cell_type": "markdown",
   "metadata": {},
   "source": [
    "## Adding packages\n",
    "\n",
    "Sadly when running an `sh` or `bash` cell in Jupyter a new subshell is created. This means it will pick up the default conda environment which may not be the environment being used by your kernel.\n",
    "\n",
    "Therefore in order to install packages you need to specify the environment name in your command."
   ]
  },
  {
   "cell_type": "code",
   "execution_count": 4,
   "metadata": {},
   "outputs": [
    {
     "name": "stdout",
     "output_type": "stream",
     "text": [
      "Fetching package metadata .............\n",
      "Solving package specifications: .\n",
      "\n",
      "Package plan for installation in environment /home/jovyan/.local/share/conda/envs/myenv:\n",
      "\n",
      "The following packages will be UPDATED:\n",
      "\n",
      "    blas:     1.0-noblas conda-forge --> 1.0-mkl      defaults   \n",
      "    boto3:    1.6.6-py_0 conda-forge --> 1.7.24-py_0  conda-forge\n",
      "    botocore: 1.9.6-py_0 conda-forge --> 1.10.24-py_0 conda-forge\n",
      "\n",
      "blas-1.0-mkl.t 100% |################################| Time: 0:00:00   8.03 MB/s\n",
      "botocore-1.10. 100% |################################| Time: 0:00:01   1.98 MB/s\n",
      "boto3-1.7.24-p 100% |################################| Time: 0:00:00  46.33 MB/s\n"
     ]
    }
   ],
   "source": [
    "! conda install -n myenv boto3 -y "
   ]
  }
 ],
 "metadata": {
  "kernelspec": {
   "display_name": "Python [default]",
   "language": "python",
   "name": "python3"
  },
  "language_info": {
   "codemirror_mode": {
    "name": "ipython",
    "version": 3
   },
   "file_extension": ".py",
   "mimetype": "text/x-python",
   "name": "python",
   "nbconvert_exporter": "python",
   "pygments_lexer": "ipython3",
   "version": "3.6.3"
  }
 },
 "nbformat": 4,
 "nbformat_minor": 2
}
